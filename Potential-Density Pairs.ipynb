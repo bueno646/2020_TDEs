{
 "cells": [
  {
   "cell_type": "markdown",
   "metadata": {},
   "source": [
    "### Website for plot comparisons:\n",
    "http://www.astro.utu.fi/~cflynn/galdyn/lecture4.html"
   ]
  },
  {
   "cell_type": "markdown",
   "metadata": {},
   "source": [
    "# Imports "
   ]
  },
  {
   "cell_type": "code",
   "execution_count": 10,
   "metadata": {
    "ExecuteTime": {
     "end_time": "2020-04-24T23:41:01.237831Z",
     "start_time": "2020-04-24T23:41:01.232755Z"
    },
    "init_cell": true
   },
   "outputs": [],
   "source": [
    "import sympy as sp\n",
    "import numpy as np\n",
    "import math\n",
    "from sympy import init_printing\n",
    "from sympy.abc import rho,sigma,G, pi,phi\n",
    "import pprint\n",
    "init_printing() \n",
    "import matplotlib.pyplot as plt\n",
    "from matplotlib import rcParams\n",
    "rcParams['axes.linewidth'] = 2\n"
   ]
  },
  {
   "cell_type": "markdown",
   "metadata": {},
   "source": [
    "# Constants  "
   ]
  },
  {
   "cell_type": "code",
   "execution_count": 11,
   "metadata": {
    "ExecuteTime": {
     "end_time": "2020-04-24T23:41:01.243623Z",
     "start_time": "2020-04-24T23:41:01.239835Z"
    },
    "init_cell": true
   },
   "outputs": [],
   "source": [
    "G_cgs     = 6.67e-8 # grav constant cgs\n",
    "k_boltz_cgs   = 1.380649e-16\n",
    "solar_mass_cgs = 2e33 #grams\n",
    "cgs_rho_to_solar_pc_rho = 1.48e22 # MULTIPLY cgs density by this to get solar mass pc^-3\n",
    "cm_to_km = 1e-5 # MULTIPLY cm by this to get km\n",
    "cm_to_pc = (3.086e18)**-1 # Multiply cm by this to get pc\n",
    "g_to_sm  = (1.98e33)**-1  # Multiply g by this to get solar masses\n",
    "\n",
    "\n",
    "\n"
   ]
  },
  {
   "cell_type": "markdown",
   "metadata": {},
   "source": [
    "# Symbolic math for isothermal/Plummer spheres  density & potentials"
   ]
  },
  {
   "cell_type": "markdown",
   "metadata": {},
   "source": [
    "## Isothermal Sphere "
   ]
  },
  {
   "cell_type": "code",
   "execution_count": 12,
   "metadata": {
    "ExecuteTime": {
     "end_time": "2020-04-24T23:41:01.554455Z",
     "start_time": "2020-04-24T23:41:01.245715Z"
    },
    "init_cell": true
   },
   "outputs": [
    {
     "data": {
      "image/png": "[encoded data removed]",
      "text/latex": [
       "$$\\left ( \\rho = \\frac{\\sigma^{2}}{2 G \\pi r^{2}}, \\quad \\phi = - \\frac{\\sigma^{2} \\log{\\left (r \\right )}}{2 G \\pi}, \\quad \\rho = \\frac{\\sigma^{2} e^{\\frac{4 G \\phi \\pi}{\\sigma^{2}}}}{2 G \\pi}\\right )$$"
      ],
      "text/plain": [
       "⎛                                       4⋅G⋅φ⋅π⎞\n",
       "⎜                                       ───────⎟\n",
       "⎜                                           2  ⎟\n",
       "⎜        2           2               2     σ   ⎟\n",
       "⎜       σ          -σ ⋅log(r)       σ ⋅ℯ       ⎟\n",
       "⎜ρ = ────────, φ = ───────────, ρ = ───────────⎟\n",
       "⎜           2         2⋅G⋅π            2⋅G⋅π   ⎟\n",
       "⎝    2⋅G⋅π⋅r                                   ⎠"
      ]
     },
     "execution_count": 12,
     "metadata": {},
     "output_type": "execute_result"
    }
   ],
   "source": [
    "r = sp.symbols('r')\n",
    "expr_rho = pow(sigma,2) / (2* pi*G*pow(r,2))\n",
    "rho_eq = sp.Eq(rho, expr_rho)\n",
    "\n",
    "expr_2   = pow(sigma,2) / ((2* pi*G))\n",
    "expr_phi = sp.Mul(sp.exp( ( (4 * G * pi ) / (sigma ** 2)) * phi )) * expr_2 \n",
    "rho_eq_2 = sp.Eq(rho, expr_phi)\n",
    "\n",
    "rho_first_int = sp.integrate(expr_rho, r)\n",
    "phi_eq = sp.integrate(rho_first_int, r)\n",
    "phi_eq = sp.Eq(phi, phi_eq)\n",
    "rho_eq, phi_eq, rho_eq_2"
   ]
  },
  {
   "cell_type": "markdown",
   "metadata": {},
   "source": [
    "## Plummer Sphere"
   ]
  },
  {
   "cell_type": "code",
   "execution_count": 13,
   "metadata": {
    "ExecuteTime": {
     "end_time": "2020-04-24T23:41:01.904088Z",
     "start_time": "2020-04-24T23:41:01.559077Z"
    },
    "init_cell": true
   },
   "outputs": [
    {
     "data": {
      "image/png": "[encoded data removed]",
      "text/latex": [
       "$$\\left ( \\rho = \\frac{3 M}{4 a^{3} \\pi \\left(1 + \\frac{r^{2}}{a^{2}}\\right)^{\\frac{5}{2}}} = \\frac{1}{\\left(1 + \\frac{r^{2}}{a^{2}}\\right)^{\\frac{5}{2}}}, \\quad \\phi = - \\frac{1}{\\sqrt{1 + \\frac{r^{2}}{a^{2}}}}, \\quad \\rho = \\phi^{5}\\right )$$"
      ],
      "text/plain": [
       "⎛           3⋅M                1                -1              5⎞\n",
       "⎜ρ = ────────────────── = ───────────, φ = ──────────────, ρ = φ ⎟\n",
       "⎜                   5/2           5/2            ________        ⎟\n",
       "⎜           ⎛     2⎞      ⎛     2⎞              ╱      2         ⎟\n",
       "⎜       3   ⎜    r ⎟      ⎜    r ⎟             ╱      r          ⎟\n",
       "⎜    4⋅a ⋅π⋅⎜1 + ──⎟      ⎜1 + ──⎟            ╱   1 + ──         ⎟\n",
       "⎜           ⎜     2⎟      ⎜     2⎟           ╱         2         ⎟\n",
       "⎝           ⎝    a ⎠      ⎝    a ⎠         ╲╱         a          ⎠"
      ]
     },
     "execution_count": 13,
     "metadata": {},
     "output_type": "execute_result"
    }
   ],
   "source": [
    "r_plum, a_plum, M_plum = sp.symbols(('r', 'a', 'M'), evaluate=False)\n",
    "plummer_constants = sp.Mul(3, M_plum, evaluate=False) / \\\n",
    "    sp.Mul(4*pi, pow(a_plum, 3), evaluate=False)\n",
    "expr_plum = plummer_constants * \\\n",
    "    pow((1+pow((r_plum/a_plum), 2)), sp.Rational(-5/2))\n",
    "expr_plum2 = pow((1+pow((r_plum/a_plum), 2)), sp.Rational(-5/2))\n",
    "\n",
    "rho_eq_plum = sp.Eq(rho, expr_plum, evaluate=False)\n",
    "rho_eq_plum = sp.Eq(rho_eq_plum, expr_plum2, evaluate=False)\n",
    "# phi_eq_plum = sp.integrate(sp.integrate(rho_eq_plum,r),r)\n",
    "# phi_eq_plum_int = sp.Eq(phi, phi_eq_plum,evaluate=True)\n",
    "\n",
    "phi_eq_plum_int = pow((1+pow((r_plum/a_plum), 2)), sp.Rational(-1/2))\n",
    "phi_eq_plum = sp.Eq(phi, -1*phi_eq_plum_int, evaluate=False)\n",
    "\n",
    "\n",
    "rho_eq_plum_2 = sp.Eq(rho, phi**5, evaluate=False)\n",
    "\n",
    "rho_eq_plum, phi_eq_plum, rho_eq_plum_2"
   ]
  },
  {
   "cell_type": "markdown",
   "metadata": {},
   "source": [
    "# Analytic Functions"
   ]
  },
  {
   "cell_type": "code",
   "execution_count": 14,
   "metadata": {
    "ExecuteTime": {
     "end_time": "2020-04-24T23:41:01.926692Z",
     "start_time": "2020-04-24T23:41:01.906564Z"
    },
    "cell_style": "center",
    "init_cell": true
   },
   "outputs": [],
   "source": [
    "# PHI (r) ### ANALYTIC EQ\n",
    "def phi_of_r_analytic(_r, _k_boltz=1, _Grav_const=1, _mean_mass=1, _temp=1, _a_plum=1, _M=1, _geometry=\"iso\"):\n",
    "    # iso\n",
    "    if _geometry == \"iso\":\n",
    "        _sigma = np.sqrt((_k_boltz*_temp)/_mean_mass)\n",
    "        _calc = (((_sigma ** 2.0) * np.log(_r)) / (2.0 * _Grav_const * np.pi))\n",
    "\n",
    "    # plum\n",
    "    if _geometry == \"plum\":\n",
    "        _calc = (-1*_Grav_const*_M) * \\\n",
    "            (((_r**2.0) + (_a_plum ** 2.0)) ** (-1/2))\n",
    "\n",
    "    return _calc\n",
    "\n",
    "# RHO (r) ### ANALYTIC EQ\n",
    "\n",
    "\n",
    "def rho_of_r_analytic(_r, _k_boltz=1, _Grav_const=1, _mean_mass=1, _temp=1, _a_plum=1, _M=1, _geometry=\"iso\"):\n",
    "\n",
    "    # iso\n",
    "    if _geometry == \"iso\":\n",
    "        _sigma = np.sqrt((_k_boltz*_temp)/_mean_mass)\n",
    "#         _calc = (_sigma ** 2.0) / (2.0 * _Grav_const * np.pi * (1.0 + _r**(2.0)))\n",
    "        _calc = (_sigma ** 2.0) / (2.0 * _Grav_const * np.pi * (_r**(2.0)))\n",
    "\n",
    "\n",
    "    # plum\n",
    "    if _geometry == \"plum\":\n",
    "        _calc = (3.0 * _M)/(4.0*np.pi) * \\\n",
    "            pow((1.0+pow((_r/_a_plum), 2.0)), -5/2)\n",
    "\n",
    "    return _calc\n",
    "\n",
    "# RHO (phi) ### ANALYTIC EQ\n",
    "\n",
    "\n",
    "def rho_of_phi_analytic(_r, _k_boltz=1, _Grav_const=1, _mean_mass=1, _temp=1, _a_plum=1,\n",
    "                        _M=1, _geometry=\"iso\"):\n",
    "\n",
    "    # iso\n",
    "    if _geometry == \"iso\":\n",
    "        _phi = phi_of_r_analytic(_r, _k_boltz=_k_boltz, _Grav_const=_Grav_const, _mean_mass=_mean_mass,\n",
    "                                 _temp=_temp, _geometry=_geometry)\n",
    "        _sigma = np.sqrt((_k_boltz*_temp)/_mean_mass)\n",
    "        exp_term = np.exp(((4 * _Grav_const * np.pi * _phi) / (_sigma ** 2.0)))\n",
    "        _calc = ((_sigma ** 2.0) / (2 * _Grav_const * np.pi)) * exp_term\n",
    "\n",
    "    # plum\n",
    "    if _geometry == \"plum\":\n",
    "        _phi = phi_of_r_analytic(\n",
    "            _r, _Grav_const=1, _a_plum=1, _M=1, _geometry=_geometry)\n",
    "        _calc = np.abs(_phi**5.0)\n",
    "\n",
    "    return _calc\n",
    "\n",
    "# r (phi) ### ANALYTIC EQ\n",
    "\n",
    "\n",
    "def r_of_phi_analytic(_r, _phi_func=phi_of_r_analytic, _k_boltz=1,\n",
    "                      _Grav_const=1, _mean_mass=1, _temp=1, _a_plum=1, _M=1,\n",
    "                      _geometry=\"iso\"):\n",
    "    # iso\n",
    "    if _geometry == \"iso\":\n",
    "        _phi = phi_of_r_analytic(_r, _k_boltz=_k_boltz, _Grav_const=_Grav_const, _mean_mass=_mean_mass,\n",
    "                                 _temp=_temp, _geometry=_geometry)\n",
    "        _sigma = np.sqrt((_k_boltz*_temp)/_mean_mass)\n",
    "        _term = (2 * _Grav_const * np.pi * _phi) / (_sigma ** 2.0)\n",
    "        _calc = np.exp(_term)\n",
    "\n",
    "    # plum\n",
    "    if _geometry == \"plum\":\n",
    "        _phi = phi_of_r_analytic(\n",
    "            _r, _Grav_const=_Grav_const, _a_plum=_a_plum, _M=_M, _geometry=\"plum\")\n",
    "        _calc = _a_plum*np.sqrt((_phi**-2.0) - 1.0)\n",
    "\n",
    "    return _calc\n",
    "\n",
    "# M (r) ### ANALYTIC EQ\n",
    "\n",
    "\n",
    "def m_of_r_analytic(_r, _phi_func=phi_of_r_analytic, _k_boltz=1, _Grav_const=1, _mean_mass=1, _temp=1,\n",
    "                    _a_plum=1, _M=1, _geometry=\"iso\"):\n",
    "\n",
    "    # iso\n",
    "    if _geometry == \"iso\":\n",
    "        _sigma = np.sqrt((_k_boltz*_temp)/_mean_mass)\n",
    "        _constants = (2.0 * (_sigma ** 2.0)) / _Grav_const\n",
    "        _calc = _constants * _r\n",
    "\n",
    "    # plum\n",
    "    if _geometry == \"plum\":\n",
    "        _calc = ((_r**3.0)*_M) * (((_r**2.0) + (_a_plum ** 2.0)) ** (-3/2))\n",
    "\n",
    "    return _calc\n",
    "\n",
    "# Vcirc (r) ### ANALYTIC EQ\n",
    "\n",
    "\n",
    "def vcirc_of_r_analytic(_r, _k_boltz=1, _Grav_const=1, _mean_mass=1, _temp=1, _a_plum=1, _M=1,\n",
    "                        _geometry=\"iso\"):\n",
    "\n",
    "    _holder = np.zeros(_r.size)\n",
    "\n",
    "    # iso\n",
    "    if _geometry == \"iso\":\n",
    "        _constants = np.sqrt((_k_boltz * _temp) / (2 * np.pi * _Grav_const))\n",
    "        _calc = _holder + _constants\n",
    "\n",
    "    # plum\n",
    "    if _geometry == \"plum\":\n",
    "        _calc = _r * pow((1+pow((_r/_a_plum), 2)), -3/4)\n",
    "\n",
    "    return _calc"
   ]
  },
  {
   "cell_type": "markdown",
   "metadata": {},
   "source": [
    "# Numerical Functions"
   ]
  },
  {
   "cell_type": "markdown",
   "metadata": {},
   "source": [
    "## Derivatives "
   ]
  },
  {
   "cell_type": "code",
   "execution_count": 15,
   "metadata": {
    "ExecuteTime": {
     "end_time": "2020-04-24T23:41:01.941853Z",
     "start_time": "2020-04-24T23:41:01.929151Z"
    },
    "init_cell": true
   },
   "outputs": [],
   "source": [
    "# Take derivative of function (an array that is a function of x) W.R.T x\n",
    "def take_deriv(_x, _y):\n",
    "    \"\"\"\n",
    "    This function takes as input:\n",
    "    _x = function inputs\n",
    "    _y = f(function inputs _x)\n",
    "\n",
    "    Outputs an array with shape (len(_x-1),2);\n",
    "    containing two arrays: the bin centers for numerical derivative and numerical derivative(_x)\n",
    "    \"\"\"\n",
    "    _dy_dx = np.diff(_y)/np.diff(_x)\n",
    "    _x2 = (_x[:-1] + _x[1:]) / 2.0\n",
    "    return np.array((_x2, _dy_dx))\n",
    "\n",
    "# Poisson Solver for rho of r -> takes phi_of_r to start\n",
    "\n",
    "\n",
    "def rho_solver_for_phi_of_r_poisson(_r, _phi_func_array, _deriv_func=take_deriv, _Grav_const=1):\n",
    "    \"\"\"\n",
    "    This function calculates numerical rho(r) from the analytic phi of (r) expression by using the\n",
    "    poisson equation for spherically symmetric potentials\n",
    "\n",
    "    This function takes as input:\n",
    "    _r              = radius array\n",
    "    _phi_func_array = array containing phi(_r)\n",
    "    _deriv_func     = calls derivative function defined above\n",
    "    _Grav_constant  = Gravitational constant set equal to 1 as default\n",
    "\n",
    "    Outputs an array with shape (len(_r),2);\n",
    "    containing two arrays: the bin centers edges for numerical rho(r) and numerical rho(_r)\n",
    "\n",
    "    _normalize determines whether or not you want numerical rho to be normalized by the analytic\n",
    "    expression\n",
    "\n",
    "    \"\"\"\n",
    "    _RHS_constants = (4.0*np.pi*_Grav_const)\n",
    "    if _Grav_const < 2 and _Grav_const > 0.5 : print(\"_Grav_const is one\")\n",
    "    # make derivative pieces\n",
    "    _r, _d_phi_dr = _deriv_func(_x=_r, _y=_phi_func_array)\n",
    "\n",
    "    # start calcs\n",
    "    _first_term = (_r**2.0) * _d_phi_dr\n",
    "    _r, _outer_derive = _deriv_func(_x=_r, _y=_first_term)\n",
    "\n",
    "    # LHS of Poisson EQ\n",
    "    _LHS = (_r**-2.0) * _outer_derive\n",
    "    _calc = _LHS / _RHS_constants\n",
    "    return np.array((_r, _calc))\n",
    "\n",
    "# POISSON Rho solver for specified geometry\n",
    "\n",
    "\n",
    "def rho_of_r_poisson_numerical(_r, _phi_func_array, _rho_func_array, _deriv_func=take_deriv, _normalize=False):\n",
    "    \"\"\"\n",
    "    This function calculates numerical rho(r) from the analytic phi of (r) expression by using the\n",
    "    poisson equation for spherically symmetric potentials\n",
    "\n",
    "    This function takes as input:\n",
    "    _r              = radius array\n",
    "    _phi_func_array = array containing phi(_r)\n",
    "    _rho_func_array = array containing rho(_r)\n",
    "    _deriv_func     = calls derivative function defined above\n",
    "\n",
    "    Outputs an array with shape (len(_r-2),2);\n",
    "    containing two arrays: the bin centers for numerical rho(r) and numerical rho(_r)\n",
    "\n",
    "    _normalize determines whether or not you want numerical rho to be normalized by the analytic\n",
    "    expression\n",
    "\n",
    "    \"\"\"\n",
    "    _r_output, _calc = rho_solver_for_phi_of_r_poisson(\n",
    "        _r, _phi_func_array, _deriv_func=_deriv_func)\n",
    "\n",
    "    if _normalize == True:\n",
    "\n",
    "        # Normalization Constant\n",
    "        normalization_constant = _rho_func_array[0] / _calc[0]\n",
    "#         print (_calc.shape)\n",
    "\n",
    "        # Normalize and account for infs/nans\n",
    "        if _r_output.shape[0] < _calc[np.isfinite(_calc)].shape[0]:\n",
    "            _r_output = _r_output\n",
    "        else:\n",
    "            _r_output = _r_output[np.isfinite(_calc)]\n",
    "\n",
    "        _calc = _calc[np.isfinite(_calc)] * normalization_constant\n",
    "\n",
    "    return np.array((_r_output, _calc))"
   ]
  },
  {
   "cell_type": "markdown",
   "metadata": {},
   "source": [
    "## Integrals"
   ]
  },
  {
   "cell_type": "code",
   "execution_count": 16,
   "metadata": {
    "ExecuteTime": {
     "end_time": "2020-04-24T23:41:01.959163Z",
     "start_time": "2020-04-24T23:41:01.944339Z"
    },
    "code_folding": [
     21
    ],
    "init_cell": true
   },
   "outputs": [],
   "source": [
    "def trap_function(_input_array, _function_array, _cumulative_anti=True):\n",
    "    \"\"\"\n",
    "    This function calculates the trapozoidal integral approximation of function_array accross the \n",
    "    entire function range\n",
    "\n",
    "    This function takes as input:\n",
    "    _input_array    = function inputs\n",
    "    _function_array = f(function inputs _x) \n",
    "\n",
    "    Outputs an array with shape (len(_input_array-1),2);\n",
    "    containing two arrays: the right bin edges for numerical integral and numerical integral of _function_array\n",
    "    \"\"\"\n",
    "    # number of points\n",
    "    _N = len(_function_array)\n",
    "    # def dx\n",
    "    _a, _b = 0, max(_input_array)\n",
    "    # holding bins\n",
    "    integral_result = np.zeros(len(_function_array)-1)\n",
    "    x_values = np.zeros(len(_function_array)-1)\n",
    "    # hard code first preset value\n",
    "    previous_value = 0\n",
    "\n",
    "    \n",
    "    if _cumulative_anti == True:\n",
    "        for ii in range(1, len(_function_array)):\n",
    "            # get endpoints\n",
    "            _f = _function_array[ii-1:ii+1]\n",
    "            # store x value corresponding to right endpoint\n",
    "            _x = _input_array[ii-1:ii+1]\n",
    "            # grab the spacing\n",
    "            _dx = np.diff(_x)\n",
    "            # def endpoint\n",
    "            _f_right = _f[1:]  # right endpoint\n",
    "            _f_left = _f[:-1]  # left endpoint\n",
    "            # integrate\n",
    "            integral_result[ii-1] = ((_dx/2.0) *\n",
    "                                     np.sum(_f_right + _f_left))+previous_value\n",
    "            # store previous value for summation\n",
    "            previous_value = integral_result[ii-1]\n",
    "            # save x values using right bin edge\n",
    "            x_values[ii-1] = _x[1:]\n",
    "    if _cumulative_anti == False:\n",
    "        for ii in range(1, len(_function_array)):\n",
    "            _f = _function_array[ii-1:ii+1]\n",
    "            # store x value corresponding to right endpoint\n",
    "            _x = _input_array[ii-1:ii+1]\n",
    "            # grab the spacing\n",
    "            _dx = np.diff(_x)\n",
    "            print(_dx)\n",
    "            # def endpoint\n",
    "            _f_right = _f[1:]  # right endpoint\n",
    "            _f_left = _f[:-1]  # left endpoint\n",
    "            # integrate\n",
    "            integral_result[ii-1] = ((_dx/2.0) * np.sum(_f_right + _f_left))#+previous_value\n",
    "            # store previous value for summation\n",
    "            #previous_value = integral_result[ii-1]\n",
    "            # save x values using right bin edge\n",
    "            x_values[ii-1] = _x[1:]\n",
    "        integral_result = np.sum(integral_result)\n",
    "\n",
    "    return np.array((x_values, integral_result))\n",
    "\n",
    "\n",
    "def phi_solver_of_rho(_r, _analytic_rho, _analytic_phi, _int_function=trap_function, _Grav_const=1,\n",
    "                      _normalize=True):\n",
    "    \"\"\"\n",
    "    This function calculates the numerical phi(r) by using the poisson equation for spherically\n",
    "    symmetric potentials\n",
    "\n",
    "    This function takes as input:\n",
    "    _r            = radius array\n",
    "    _analytic_rho = array containing analytic rho(_r)\n",
    "    _analytic_phi = array containing analytic phi(_r)\n",
    "    _int_function = trapazoidal integral function defined above\n",
    "    _Grav_const   = 1\n",
    "\n",
    "    Outputs an array with shape (len(_r-1),2);\n",
    "    containing two arrays: the right bin edges for numerical integral and numerical integral of _function_array\n",
    "\n",
    "    _normalize determines whether or not you want numerical phi to be normalized by the analytic\n",
    "    expression\n",
    "    \"\"\"\n",
    "    # poisson\n",
    "    _constants = 4.0*np.pi*_Grav_const\n",
    "    if _Grav_const < 2 and _Grav_const > 0.5: print(\"_Grav_const is one\")\n",
    "\n",
    "    # integration stuff\n",
    "\n",
    "    # get the integral\n",
    "    _r, _first_term = _int_function(\n",
    "        _input_array=_r, _function_array=_analytic_rho*_r**2.0)\n",
    "\n",
    "    # get the second_integral\n",
    "    _r, _second_term = _int_function(\n",
    "        _input_array=_r, _function_array=_first_term/(_r**2.0))\n",
    "\n",
    "    _calc = _second_term *_constants\n",
    "\n",
    "    if _normalize == True:\n",
    "\n",
    "        # Normalization Constant\n",
    "        _normalization_constant = max(_calc)# - max(_analytic_phi)\n",
    "\n",
    "#         _calc = _calc * _normalization_constant\n",
    "        _calc = _calc - _normalization_constant\n",
    "\n",
    "    return np.array((_r, _calc))"
   ]
  },
  {
   "cell_type": "markdown",
   "metadata": {},
   "source": [
    "## Input Array "
   ]
  },
  {
   "cell_type": "code",
   "execution_count": 17,
   "metadata": {
    "ExecuteTime": {
     "end_time": "2020-04-24T23:41:01.983166Z",
     "start_time": "2020-04-24T23:41:01.973535Z"
    },
    "init_cell": true
   },
   "outputs": [],
   "source": [
    "_N = 100000\n",
    "# r_array_2_iso = np.linspace(0.1, 100, _N)  # 0 to 40\n",
    "r_array_2_iso = np.logspace(-1,2,_N) # 0.1 to 100"
   ]
  },
  {
   "cell_type": "markdown",
   "metadata": {},
   "source": [
    "# Isothermal Sphere"
   ]
  },
  {
   "cell_type": "markdown",
   "metadata": {},
   "source": [
    "## Variables for plotting"
   ]
  },
  {
   "cell_type": "code",
   "execution_count": null,
   "metadata": {
    "hide_input": false
   },
   "outputs": [],
   "source": [
    "# Top Row\n",
    "_geometry = \"iso\"\n",
    "\n",
    "# Phi of r\n",
    "r_iso, phi_of_r_analytic_iso = r_array_2_iso, phi_of_r_analytic(\n",
    "    r_array_2_iso, _geometry=_geometry)\n",
    "\n",
    "\n",
    "# rho of r\n",
    "r_iso, rho_of_r_analytic_iso = r_array_2_iso, rho_of_r_analytic(\n",
    "    r_array_2_iso, _geometry=_geometry)\n",
    "\n",
    "# rho of r and derivatives\n",
    "# Poisson normalized\n",
    "r_iso_poisson_normalized, dphi2_dr2_grad_poisson_normalized = rho_of_r_poisson_numerical(\n",
    "    _r=r_iso, _phi_func_array=phi_of_r_analytic_iso,_rho_func_array=rho_of_r_analytic_iso,\n",
    "    _deriv_func=take_deriv, _normalize=True)\n",
    "\n",
    "\n",
    "# r of phi \n",
    "r_of_phi_iso, rho_of_r_of_phi_iso = r_of_phi_analytic(\n",
    "    r_array_2_iso), rho_of_r_analytic(_r=r_of_phi_analytic(r_array_2_iso, _geometry=_geometry))\n",
    "\n",
    "# phi of r numerical\n",
    "\n",
    "_phi_of_r_x_vals, phi_of_r_numerical = phi_solver_of_rho(_r=r_iso, _analytic_rho=rho_of_r_analytic_iso,\n",
    "                                                         _analytic_phi=phi_of_r_analytic_iso,\n",
    "                                                         _int_function=trap_function, _normalize=False)\n",
    "\n",
    "# rho(r) analytic -> phi(r) numerical -> rho(r) numerical\n",
    "# logspace\n",
    "r_iso_poisson_normalized_test, dphi2_dr2_grad_poisson_normalized_test = rho_of_r_poisson_numerical(\n",
    "    _phi_of_r_x_vals, _phi_func_array=phi_of_r_numerical, _rho_func_array=rho_of_r_analytic_iso,\n",
    "    _deriv_func=take_deriv, _normalize=True)\n",
    "\n",
    "# r_first_deriv, drho_dr  = take_deriv(rho_of_r_analytic(r_array_2_iso,_geometry=_geometry),_x=r_array_2_iso,_n=1)\n",
    "\n",
    "# # second derivative`\n",
    "# r_second_derive, d2rho_dr2  = take_deriv(rho_of_r_analytic(r_array_2_iso,_geometry=_geometry),_x=r_array_2_iso,_n=2)"
   ]
  },
  {
   "cell_type": "markdown",
   "metadata": {},
   "source": [
    "## Plots"
   ]
  },
  {
   "cell_type": "code",
   "execution_count": null,
   "metadata": {
    "code_folding": [],
    "hide_input": false,
    "scrolled": false
   },
   "outputs": [],
   "source": [
    "# create figure object\n",
    "fig = plt.figure(1)\n",
    "fig.set_figheight(10)\n",
    "fig.set_figwidth(12)\n",
    "\n",
    "# create axis object\n",
    "ax = plt.subplot(221)\n",
    "plt.grid(True)\n",
    "\n",
    "# ploting\n",
    "\n",
    "plt.plot(r_iso_poisson_normalized, dphi2_dr2_grad_poisson_normalized,\n",
    "         'green',marker=\"*\",markersize=15,markevery=100, label=r'$\\mathrm{A -> N}$')\n",
    "plt.plot(r_iso_poisson_normalized_test, dphi2_dr2_grad_poisson_normalized_test, 'tab:orange',marker=\"+\"\n",
    "         ,markersize=15,markevery=200, label=r'$\\mathrm{N -> N}$')\n",
    "plt.plot(r_iso, rho_of_r_analytic_iso, 'navy', label=r'$\\mathrm{A}$')\n",
    "# plt.plot(rho_of_r_diff, drho_dr_diff,'r*',label=r'$\\mathrm{np.diff}$')\n",
    "\n",
    "\n",
    "# labeling\n",
    "plt.title(r'$\\mathrm{\\rho(r)\\ vs.\\ r}$', size=30)\n",
    "plt.xlabel(r'$\\mathrm{Log\\ r}$', size=30)\n",
    "plt.ylabel(r'$\\mathrm{ Log\\ \\rho(r) }$', size=30)\n",
    "ax.tick_params(axis='x', which='major', labelsize=16)\n",
    "ax.tick_params(axis='y', which='major', labelsize=16)\n",
    "plt.semilogy()\n",
    "plt.semilogx()\n",
    "plt.legend(fontsize=10)\n",
    "plt.tight_layout()\n",
    "\n",
    "\n",
    "# create axis space\n",
    "ax = plt.subplot(222)\n",
    "plt.grid(True)\n",
    "\n",
    "# ploting\n",
    "##ploting\n",
    "plt.plot(r_array_2_iso, phi_of_r_analytic_iso,color='navy',linewidth=3,label=r'$\\mathrm{Analytic\\ Log}$')\n",
    "plt.plot(_phi_of_r_x_vals,phi_of_r_numerical,marker=\"+\",color=\"orange\",markersize=20,markevery=100,label=r'$\\mathrm{Numerical\\ Log}$')\n",
    "\n",
    "# labeling\n",
    "plt.title(r'$\\mathrm{\\phi(r)\\ vs.\\ r}$', size=30)\n",
    "plt.xlabel(r'$\\mathrm{Log\\ r}$', size=30)\n",
    "plt.ylabel(r'$\\mathrm{\\phi(r)}$', size=30)\n",
    "ax.tick_params(axis='x', which='major', labelsize=16)\n",
    "ax.tick_params(axis='y', which='major', labelsize=16)\n",
    "plt.semilogy()\n",
    "plt.semilogx()\n",
    "plt.legend(fontsize=15)\n",
    "plt.tight_layout()\n",
    "\n",
    "\n",
    "# create axis space\n",
    "ax = plt.subplot(223)\n",
    "plt.grid(True)\n",
    "\n",
    "# ploting\n",
    "# plt.plot(phi_iso_sphere_of_r_analytic_py(r_array_2),rho_iso_sphere_of_phi_analytic_py(r_array_2),\n",
    "#          color='tomato',label=r'$\\mathrm{Analytic}$')\n",
    "plt.plot(r_of_phi_iso, rho_of_r_of_phi_iso,\n",
    "         color='green', label=r'$\\mathrm{Analytic}$')\n",
    "\n",
    "# plt.plot(r_array_2,rho_computational_py(r_array_2),label=r'$\\mathrm{Computational}$')\n",
    "\n",
    "# labeling\n",
    "plt.title(r'$\\mathrm{\\rho(\\phi)\\ vs.\\ \\phi}$', size=30)\n",
    "plt.xlabel(r'$\\mathrm{Log\\ r(\\phi)}$', size=30)\n",
    "plt.ylabel(r'$\\mathrm{\\rho (r(\\phi))}$', size=30)\n",
    "ax.tick_params(axis='x', which='major', labelsize=16)\n",
    "ax.tick_params(axis='y', which='major', labelsize=16)\n",
    "plt.semilogy()\n",
    "plt.semilogx()\n",
    "plt.legend(fontsize=15)\n",
    "plt.tight_layout()\n",
    "\n",
    "# create axis space\n",
    "ax = plt.subplot(224)\n",
    "plt.grid(True)\n",
    "\n",
    "# ploting\n",
    "plt.plot(r_array_2_iso, vcirc_of_r_analytic(r_array_2_iso,_geometry=_geometry), color='tomato')\n",
    "\n",
    "# labeling\n",
    "plt.title(r'$\\mathrm{V_{circ}\\ vs.\\ r}$', size=30)\n",
    "plt.xlabel(r'$\\mathrm{Log\\ r}$', size=30)\n",
    "plt.ylabel(r'$\\mathrm{V_{circ}}$', size=30)\n",
    "ax.tick_params(axis='x', which='major', labelsize=16)\n",
    "ax.tick_params(axis='y', which='major', labelsize=16)\n",
    "plt.semilogx()\n",
    "plt.tight_layout()"
   ]
  },
  {
   "cell_type": "markdown",
   "metadata": {
    "hide_input": true
   },
   "source": [
    "## isothermal Sphere: Density vs potential and it's derivatives"
   ]
  },
  {
   "cell_type": "code",
   "execution_count": null,
   "metadata": {
    "hide_input": true
   },
   "outputs": [],
   "source": [
    "# fig = plt.figure(3)\n",
    "# fig.set_figheight(6)\n",
    "# fig.set_figwidth(15)\n",
    "\n",
    "# #create axis object\n",
    "# ax = plt.subplot(131)\n",
    "# plt.grid(True)\n",
    "\n",
    "# ##ploting\n",
    "# plt.plot(r_iso, rho_of_r_analytic,\n",
    "#          label=r'$\\mathrm{Analytic}$')\n",
    "\n",
    "# #labeling\n",
    "# # plt.title(r'$\\mathrm{\\rho(r)\\ vs.\\ r}$',size=30)\n",
    "# plt.xlabel(r'$\\mathrm{Log\\ \\phi (r)}$',size=30)\n",
    "# plt.ylabel(r'$\\mathrm{Log\\ \\rho(r) }$',size=30)\n",
    "\n",
    "# ax.tick_params(axis='x', which='major', labelsize=16)\n",
    "# ax.tick_params(axis='y', which='major', labelsize=16)\n",
    "# plt.semilogy()\n",
    "# plt.semilogx()\n",
    "# plt.legend(fontsize=15)\n",
    "# plt.tight_layout()\n",
    "\n",
    "# #create axis object\n",
    "# ax = plt.subplot(132)\n",
    "# plt.grid(True)\n",
    "\n",
    "# ##ploting\n",
    "# plt.plot(-drho_dr,rho_of_r_analytic,label=r'$\\mathrm{numerical}$')\n",
    "\n",
    "# #labeling\n",
    "# # plt.title(r'$\\mathrm{\\rho(r)\\ vs.\\ r}$',size=30)\n",
    "# plt.xlabel(r'$\\mathrm{Log\\ -\\frac{\\mathrm{d} \\phi(r)}{\\mathrm{d}r}}$',size=30)\n",
    "# plt.ylabel(r'$\\mathrm{Log\\ \\rho(r) }$',size=30)\n",
    "# ax.tick_params(axis='x', which='major', labelsize=16)\n",
    "# ax.tick_params(axis='y', which='major', labelsize=16)\n",
    "# plt.semilogy()\n",
    "# plt.semilogx()\n",
    "# plt.legend(fontsize=13)\n",
    "# plt.tight_layout()\n",
    "\n",
    "# ax = plt.subplot(133)\n",
    "# plt.grid(True)\n",
    "\n",
    "\n",
    "# ##ploting\n",
    "# plt.plot(d2rho_dr2, rho_of_r_analytic,label=r'$\\mathrm{numerical}$')\n",
    "\n",
    "# #labeling\n",
    "# # plt.title(r'$\\mathrm{\\rho(r)\\ vs.\\ r}$',size=30)\n",
    "# plt.xlabel(r'$\\mathrm{\\frac{\\mathrm{d}^2 \\phi}{\\mathrm{d}r^2}}$',size=30)\n",
    "# plt.ylabel(r'$\\mathrm{\\rho(r) }$',size=30)\n",
    "# ax.tick_params(axis='x', which='major', labelsize=16)\n",
    "# ax.tick_params(axis='y', which='major', labelsize=16)\n",
    "# # plt.semilogy()\n",
    "# # plt.semilogx()\n",
    "# plt.legend(fontsize=15)\n",
    "# plt.tight_layout()\n",
    "\n",
    "# # plt.xlabel(r'$\\mathrm{\\frac{\\mathrm{d}^2 \\omega}{\\mathrm{d}\\theta^2}}$',size=30)"
   ]
  },
  {
   "cell_type": "markdown",
   "metadata": {},
   "source": [
    "# Plummer Sphere"
   ]
  },
  {
   "cell_type": "markdown",
   "metadata": {},
   "source": [
    "## Inputs"
   ]
  },
  {
   "cell_type": "code",
   "execution_count": null,
   "metadata": {},
   "outputs": [],
   "source": [
    "_N = 100000\n",
    "r_array_2_plum = np.logspace(-1,2,_N) # 0.1 to 100"
   ]
  },
  {
   "cell_type": "markdown",
   "metadata": {
    "hide_input": true
   },
   "source": [
    "## Variables for plotting "
   ]
  },
  {
   "cell_type": "code",
   "execution_count": null,
   "metadata": {
    "hide_input": false,
    "scrolled": true
   },
   "outputs": [],
   "source": [
    "# Top Row\n",
    "_geometry = \"plum\"\n",
    "\n",
    "# Phi of r\n",
    "r_plum, phi_of_r_analytic_plum = r_array_2_plum, phi_of_r_analytic(\n",
    "    r_array_2_plum, _geometry=_geometry)\n",
    "\n",
    "\n",
    "# rho of r\n",
    "r_plum, rho_of_r_analytic_plum = r_array_2_plum, rho_of_r_analytic(\n",
    "    r_array_2_plum, _geometry=_geometry)\n",
    "\n",
    "# rho of r and derivatives\n",
    "# Poisson normalized\n",
    "r_plum_poisson_normalized, dphi2_dr2_grad_poisson_normalized = rho_of_r_poisson_numerical(\n",
    "    _r=r_plum, _phi_func_array=phi_of_r_analytic_plum,_rho_func_array=rho_of_r_analytic_plum,\n",
    "    _deriv_func=take_deriv, _normalize=True)\n",
    "\n",
    "\n",
    "# r of phi \n",
    "r_of_phi_plum, rho_of_r_of_phi_plum = r_of_phi_analytic(\n",
    "    r_array_2_plum), rho_of_r_analytic(_r=r_of_phi_analytic(r_array_2_plum, _geometry=_geometry))\n",
    "\n",
    "# phi of r numerical\n",
    "\n",
    "_phi_of_r_x_vals, phi_of_r_numerical = phi_solver_of_rho(_r=r_plum, _analytic_rho=rho_of_r_analytic_plum,\n",
    "                                                         _analytic_phi=phi_of_r_analytic_plum,\n",
    "                                                         _int_function=trap_function, _normalize=False)\n",
    "\n",
    "# rho(r) analytic -> phi(r) numerical -> rho(r) numerical\n",
    "# logspace\n",
    "r_plum_poisson_normalized_test, dphi2_dr2_grad_poisson_normalized_test = rho_of_r_poisson_numerical(\n",
    "    _phi_of_r_x_vals, _phi_func_array=phi_of_r_numerical, _rho_func_array=rho_of_r_analytic_plum,\n",
    "    _deriv_func=take_deriv, _normalize=True)\n",
    "\n",
    "\n",
    "# r_first_deriv, drho_dr  = take_deriv(rho_of_r_analytic(r_array_2_plum,_geometry=_geometry),_x=r_array_2_plum,_n=1)\n",
    "\n",
    "# # second derivative`\n",
    "# r_second_derive, d2rho_dr2  = take_deriv(rho_of_r_analytic(r_array_2_plum,_geometry=_geometry),_x=r_array_2_plum,_n=2)"
   ]
  },
  {
   "cell_type": "markdown",
   "metadata": {},
   "source": [
    "## Plots "
   ]
  },
  {
   "cell_type": "code",
   "execution_count": null,
   "metadata": {
    "hide_input": false,
    "scrolled": false
   },
   "outputs": [],
   "source": [
    "# create figure object\n",
    "fig = plt.figure(2)\n",
    "fig.set_figheight(10)\n",
    "fig.set_figwidth(12)\n",
    "\n",
    "# create axis object\n",
    "ax = plt.subplot(221)\n",
    "plt.grid(True)\n",
    "\n",
    "# ploting\n",
    "\n",
    "plt.plot(r_plum_poisson_normalized, dphi2_dr2_grad_poisson_normalized,\n",
    "         'green',marker=\"*\",markersize=15,markevery=100, label=r'$\\mathrm{A -> N}$')\n",
    "plt.plot(r_plum_poisson_normalized_test, dphi2_dr2_grad_poisson_normalized_test, 'tab:orange',marker=\"+\"\n",
    "         ,markersize=15,markevery=200, label=r'$\\mathrm{N -> N}$')\n",
    "plt.plot(r_plum, rho_of_r_analytic_plum, 'navy', label=r'$\\mathrm{A}$')\n",
    "# plt.plot(rho_of_r_diff, drho_dr_diff,'r*',label=r'$\\mathrm{np.diff}$')\n",
    "\n",
    "\n",
    "# labeling\n",
    "plt.title(r'$\\mathrm{\\rho(r)\\ vs.\\ r}$', size=30)\n",
    "plt.xlabel(r'$\\mathrm{Log\\ r}$', size=30)\n",
    "plt.ylabel(r'$\\mathrm{ Log\\ \\rho(r) }$', size=30)\n",
    "ax.tick_params(axis='x', which='major', labelsize=16)\n",
    "ax.tick_params(axis='y', which='major', labelsize=16)\n",
    "plt.semilogy()\n",
    "plt.semilogx()\n",
    "plt.legend(fontsize=10)\n",
    "plt.tight_layout()\n",
    "\n",
    "\n",
    "# create axis space\n",
    "ax = plt.subplot(222)\n",
    "plt.grid(True)\n",
    "\n",
    "# ploting\n",
    "##ploting\n",
    "plt.plot(_phi_of_r_x_vals,phi_of_r_numerical-1,marker=\"+\",color=\"orange\",markersize=20,markevery=100,label=r'$\\mathrm{Numerical\\ Log}$')\n",
    "plt.plot(r_array_2_plum, phi_of_r_analytic_plum,color='navy',linewidth=3,label=r'$\\mathrm{Analytic\\ Log}$')\n",
    "\n",
    "# labeling\n",
    "plt.title(r'$\\mathrm{\\phi(r)\\ vs.\\ r}$', size=30)\n",
    "plt.xlabel(r'$\\mathrm{Log\\ r}$', size=30)\n",
    "plt.ylabel(r'$\\mathrm{\\phi(r)}$', size=30)\n",
    "ax.tick_params(axis='x', which='major', labelsize=16)\n",
    "ax.tick_params(axis='y', which='major', labelsize=16)\n",
    "# plt.semilogy()\n",
    "plt.semilogx()\n",
    "plt.legend(fontsize=15)\n",
    "plt.tight_layout()\n",
    "\n",
    "\n",
    "# create axis space\n",
    "ax = plt.subplot(223)\n",
    "plt.grid(True)\n",
    "\n",
    "# ploting\n",
    "# plt.plot(phi_plum_sphere_of_r_analytic_py(r_array_2),rho_plum_sphere_of_phi_analytic_py(r_array_2),\n",
    "#          color='tomato',label=r'$\\mathrm{Analytic}$')\n",
    "plt.plot(r_of_phi_plum, rho_of_r_of_phi_plum,\n",
    "         color='green', label=r'$\\mathrm{Analytic}$')\n",
    "\n",
    "# plt.plot(r_array_2,rho_computational_py(r_array_2),label=r'$\\mathrm{Computational}$')\n",
    "\n",
    "# labeling\n",
    "plt.title(r'$\\mathrm{\\rho(\\phi)\\ vs.\\ \\phi}$', size=30)\n",
    "plt.xlabel(r'$\\mathrm{Log\\ r(\\phi)}$', size=30)\n",
    "plt.ylabel(r'$\\mathrm{\\rho (r(\\phi))}$', size=30)\n",
    "ax.tick_params(axis='x', which='major', labelsize=16)\n",
    "ax.tick_params(axis='y', which='major', labelsize=16)\n",
    "plt.semilogy()\n",
    "plt.semilogx()\n",
    "plt.legend(fontsize=15)\n",
    "plt.tight_layout()\n",
    "\n",
    "# create axis space\n",
    "ax = plt.subplot(224)\n",
    "plt.grid(True)\n",
    "\n",
    "# ploting\n",
    "plt.plot(r_array_2_plum, vcirc_of_r_analytic(r_array_2_plum,_geometry=_geometry), color='tomato')\n",
    "\n",
    "# labeling\n",
    "plt.title(r'$\\mathrm{V_{circ}\\ vs.\\ r}$', size=30)\n",
    "plt.xlabel(r'$\\mathrm{Log\\ r}$', size=30)\n",
    "plt.ylabel(r'$\\mathrm{V_{circ}}$', size=30)\n",
    "ax.tick_params(axis='x', which='major', labelsize=16)\n",
    "ax.tick_params(axis='y', which='major', labelsize=16)\n",
    "plt.semilogx()\n",
    "plt.tight_layout()"
   ]
  },
  {
   "cell_type": "code",
   "execution_count": null,
   "metadata": {
    "code_folding": [],
    "hide_input": true
   },
   "outputs": [],
   "source": [
    "def cumu_trap_function(_func, _anti_func, _a, _b, _N, _coordinates=\"cartesian\",\n",
    "                  _number=1):\n",
    "\n",
    "    # create intervals\n",
    "    _x = np.linspace(_a, _b, _N+1)  # N intervals\n",
    "\n",
    "    # def dx\n",
    "    _dx = (_b - _a)/_N\n",
    "\n",
    "\n",
    "    _result = np.zeros(len(_x))\n",
    "    if _coordinates == \"spherical_polar\":\n",
    "        for ii in range(1,len(_x)):\n",
    "        # call func interval, stars with a[1] to a[2]\n",
    "            _f = _func(_x[ii-1:ii+1])*(_x[ii-1:ii+1]**2.0)\n",
    "\n",
    "            # integrate over interval\n",
    "            _result[ii] = (4.0*np.pi*(_dx/2.0)) * np.sum(_f[1:] + _f[:-1])\n",
    "            \n",
    "        if _number == 2:\n",
    "            second_integral = np.zeros(len(_x))\n",
    "            _f = _func(_x[ii-1:ii+1])*(_x[ii-1:ii+1]**2.0)\n",
    "            \n",
    "\n",
    "    if _coordinates == \"cartesian\":\n",
    "        for ii in range(1,len(_x)):\n",
    "            _f = _func(_x)\n",
    "\n",
    "            # call func interval, stars with a[1] to a[2]\n",
    "            _f = _func(_x[ii-1:ii+1])\n",
    "\n",
    "            # integrate over interval\n",
    "            _result[ii] = (_dx/2.0) * np.sum(_f[1:] + _f[:-1])\n",
    "            \n",
    "        if _number == 2:\n",
    "            second_integral = np.zeros(len(_x))\n",
    "            _f = _func(_x[ii-1:ii+1])*(_x[ii-1:ii+1]**2.0)\n",
    "  \n",
    "    return _result\n",
    "\n"
   ]
  },
  {
   "cell_type": "markdown",
   "metadata": {},
   "source": [
    "## Dehnen Density Models"
   ]
  },
  {
   "cell_type": "code",
   "execution_count": 18,
   "metadata": {
    "ExecuteTime": {
     "end_time": "2020-04-24T23:41:02.007666Z",
     "start_time": "2020-04-24T23:41:01.998686Z"
    },
    "init_cell": true
   },
   "outputs": [],
   "source": [
    "def rho_dehnen(_r,_p0=1,_a=1,_alpha=1,_beta=3):\n",
    "    #default is NFW\n",
    "    _term_a = (_r/_a)**_alpha\n",
    "    _term_b = (1.0 + (_r/_a)) ** (_beta-_alpha)\n",
    "    _calc = _p0 /(_term_a*_term_b)\n",
    "    return _calc\n",
    "\n",
    "def NFW_potential(_r,_p0=1,_a=1,_Grav_constant=1):\n",
    "    _constants = -4.0*np.pi*_Grav_constant*_p0*(_a**2.0)\n",
    "    _fraction  = np.log(1.0 + (_r/_a)) / (_r/_a)\n",
    "    _calc = _constants * _fraction\n",
    "    return _calc\n",
    "\n",
    "def HERN_potential(_r,_p0=1,_a=1,_Grav_constant=1):\n",
    "    _constants = -4.0*np.pi*_Grav_constant*_p0*(_a**2.0)\n",
    "    _fraction  =  1.0 / (2.0*(1.0 + (_r/_a)))\n",
    "    _calc = _constants * _fraction\n",
    "    return _calc\n",
    "    \n",
    "            "
   ]
  },
  {
   "cell_type": "markdown",
   "metadata": {},
   "source": [
    "## NFW Profile\n"
   ]
  },
  {
   "cell_type": "markdown",
   "metadata": {},
   "source": [
    "## Variables for plotting "
   ]
  },
  {
   "cell_type": "code",
   "execution_count": null,
   "metadata": {},
   "outputs": [],
   "source": [
    "_N = 100000\n",
    "r_array_2_NFW = np.logspace(-1,5,_N) # 0.1 to 1e5"
   ]
  },
  {
   "cell_type": "code",
   "execution_count": null,
   "metadata": {
    "code_folding": []
   },
   "outputs": [],
   "source": [
    "# Rho of r\n",
    "r_NFW, rho_of_r_analytic_NFW = r_array_2_NFW, rho_dehnen(\n",
    "    _r=r_array_2_NFW, _p0=1, _a=1, _alpha=1, _beta=3)\n",
    "\n",
    "#phi of r analytic\n",
    "\n",
    "phi_of_r_analytic_NFW = NFW_potential(_r=r_array_2_NFW,_p0=1,_a=1,_Grav_constant=1)\n",
    "\n",
    "# phi of r numerical\n",
    "\n",
    "_phi_of_r_x_vals_NFW, phi_of_r_numerical_NFW = phi_solver_of_rho(_r=r_array_2_NFW, _analytic_rho=rho_of_r_analytic_NFW,\n",
    "                                                                 _analytic_phi=phi_of_r_analytic_NFW,\n",
    "                                                                 _int_function=trap_function, _normalize=True)\n",
    "#fix phi of r numerical\n",
    "# adjust = max(phi_of_r_numerical_NFW)-max(phi_of_r_analytic_NFW)\n",
    "\n",
    "# phi_of_r_numerical_NFW = phi_of_r_numerical_NFW - adjust\n",
    "\n",
    "# Rho of R numerical\n",
    "x_val_NFW, numerical_rho_of_r_NFW = rho_of_r_poisson_numerical(\n",
    "    _r=r_array_2_NFW, _phi_func_array=phi_of_r_analytic_NFW, _rho_func_array=rho_of_r_analytic_NFW,\n",
    "    _deriv_func=take_deriv, _normalize=True)\n",
    "\n",
    "# Rho of R numerical from phi_of_r numerical\n",
    "x_val_NFW_NN, numerical_rho_of_r_NFW_NN = rho_of_r_poisson_numerical(\n",
    "    _r=_phi_of_r_x_vals_NFW, _phi_func_array=phi_of_r_numerical_NFW, _rho_func_array=rho_of_r_analytic_NFW,\n",
    "    _deriv_func=take_deriv, _normalize=False)\n",
    "\n",
    "\n",
    "#circular velocity numerical\n",
    "\n",
    "_vcirc_of_r_x_vals_NFW, vcirc_of_r_numerical_NFW = take_deriv(_x= _phi_of_r_x_vals_NFW,\n",
    "                                                              _y=phi_of_r_numerical_NFW)\n",
    "\n",
    "vcirc_of_r_numerical_NFW = np.sqrt(_vcirc_of_r_x_vals_NFW * np.abs(vcirc_of_r_numerical_NFW))\n",
    "\n"
   ]
  },
  {
   "cell_type": "code",
   "execution_count": null,
   "metadata": {},
   "outputs": [],
   "source": [
    "fig = plt.figure(3)\n",
    "fig.set_figheight(6)\n",
    "fig.set_figwidth(15)\n",
    "\n",
    "# create axis object\n",
    "ax = plt.subplot(131)\n",
    "plt.grid(True)\n",
    "\n",
    "# ploting\n",
    "\n",
    "plt.plot(x_val_NFW, numerical_rho_of_r_NFW,'green',marker=\"*\",markersize=15,markevery=200,\n",
    "         label=r'$\\mathrm{A -> N}$')\n",
    "plt.plot(x_val_NFW_NN, numerical_rho_of_r_NFW_NN, 'tab:orange',marker=\"+\",markersize=15,\n",
    "         markevery=200, label=r'$\\mathrm{N -> N}$')\n",
    "plt.plot(r_NFW, rho_of_r_analytic_NFW, 'navy', label=r'$\\mathrm{A}$')\n",
    "\n",
    "# labeling\n",
    "plt.title(r'$\\mathrm{\\rho(r)\\ vs.\\ r}$', size=30)\n",
    "plt.xlabel(r'$\\mathrm{Log\\ r}$', size=30)\n",
    "plt.ylabel(r'$\\mathrm{ Log\\ \\rho(r) }$', size=30)\n",
    "ax.tick_params(axis='x', which='major', labelsize=16)\n",
    "ax.tick_params(axis='y', which='major', labelsize=16)\n",
    "plt.semilogy()\n",
    "plt.semilogx()\n",
    "plt.legend(fontsize=10)\n",
    "plt.tight_layout()\n",
    "\n",
    "# create axis space\n",
    "ax = plt.subplot(132)\n",
    "plt.grid(True)\n",
    "\n",
    "# ploting\n",
    "##ploting\n",
    "plt.plot(_phi_of_r_x_vals_NFW, phi_of_r_numerical_NFW,marker=\"+\",color=\"orange\",markersize=20,markevery=200,label=r'$\\mathrm{Numerical\\ Log}$')\n",
    "plt.plot(r_NFW, phi_of_r_analytic_NFW,color='navy',linewidth=3,label=r'$\\mathrm{Analytic\\ Log}$')\n",
    "\n",
    "# labeling\n",
    "plt.title(r'$\\mathrm{\\phi(r)\\ vs.\\ r}$', size=30)\n",
    "plt.xlabel(r'$\\mathrm{Log\\ r}$', size=30)\n",
    "plt.ylabel(r'$\\mathrm{\\phi(r)}$', size=30)\n",
    "ax.tick_params(axis='x', which='major', labelsize=16)\n",
    "ax.tick_params(axis='y', which='major', labelsize=16)\n",
    "# plt.semilogy()\n",
    "plt.semilogx()\n",
    "plt.legend(fontsize=15)\n",
    "plt.tight_layout()\n",
    "\n",
    "# create axis space\n",
    "ax = plt.subplot(133)\n",
    "plt.grid(True)\n",
    "\n",
    "# ploting\n",
    "plt.plot(_vcirc_of_r_x_vals_NFW, vcirc_of_r_numerical_NFW, color='tomato',label=r'$\\mathrm{Numerical\\ Log}$')\n",
    "\n",
    "# labeling\n",
    "plt.title(r'$\\mathrm{Log\\ V_{circ}\\ vs.\\ r}$', size=30)\n",
    "plt.xlabel(r'$\\mathrm{Log\\ r}$', size=30)\n",
    "plt.ylabel(r'$\\mathrm{V_{circ}}$', size=30)\n",
    "ax.tick_params(axis='x', which='major', labelsize=16)\n",
    "ax.tick_params(axis='y', which='major', labelsize=16)\n",
    "plt.semilogx()\n",
    "plt.semilogy()\n",
    "plt.legend(fontsize=15)\n",
    "plt.tight_layout()"
   ]
  },
  {
   "cell_type": "markdown",
   "metadata": {},
   "source": [
    "# Rotation Curves"
   ]
  },
  {
   "cell_type": "markdown",
   "metadata": {},
   "source": [
    "## Inputs "
   ]
  },
  {
   "cell_type": "code",
   "execution_count": 19,
   "metadata": {
    "ExecuteTime": {
     "end_time": "2020-04-24T23:42:02.168398Z",
     "start_time": "2020-04-24T23:42:02.163609Z"
    }
   },
   "outputs": [],
   "source": [
    "# radius dist\n",
    "inputs_RC = (np.logspace(18,26,1000)) # m \n",
    "\n",
    "#DM Halo\n",
    "_p0_DM = 8.54e-26 # g cm^-3\n",
    "_a_DM = 1.23e23  # cm\n",
    "#stars\n",
    "_p0_STARS = 7.95e-24  # g cm^-3\n",
    "_a_STARS = 1.54e22  # cm"
   ]
  },
  {
   "cell_type": "markdown",
   "metadata": {},
   "source": [
    "## Define Density Distributions"
   ]
  },
  {
   "cell_type": "code",
   "execution_count": 20,
   "metadata": {
    "ExecuteTime": {
     "end_time": "2020-04-24T23:42:02.630928Z",
     "start_time": "2020-04-24T23:42:02.622666Z"
    },
    "code_folding": []
   },
   "outputs": [],
   "source": [
    "# DM Halo density distribution\n",
    "DM_rho_dist_NFW = rho_dehnen(_r=inputs_RC,_p0=_p0_DM,_a=_a_DM,_alpha=1,_beta=3)\n",
    "\n",
    "# Stars Density distribution\n",
    "STARS_rho_dist_HERN = rho_dehnen(_r=inputs_RC,_p0=_p0_STARS,_a=_a_STARS,_alpha=1,_beta=4)\n",
    "\n",
    "# STARS + DM Density distribution\n",
    "TOT_rho_dist = DM_rho_dist_NFW + STARS_rho_dist_HERN\n",
    "\n"
   ]
  },
  {
   "cell_type": "markdown",
   "metadata": {},
   "source": [
    "## Variables for plotting"
   ]
  },
  {
   "cell_type": "code",
   "execution_count": 21,
   "metadata": {
    "ExecuteTime": {
     "end_time": "2020-04-24T23:42:03.301602Z",
     "start_time": "2020-04-24T23:42:03.182991Z"
    }
   },
   "outputs": [],
   "source": [
    "# phi of r analytic\n",
    "_Grav_constant_cgs = 6.67e-8 # cgs\n",
    "\n",
    "# DM\n",
    "phi_of_r_analytic_DM = NFW_potential(_r=inputs_RC,_p0=_p0_DM,_a=_a_DM,_Grav_constant=_Grav_constant_cgs)\n",
    "\n",
    "# STARS\n",
    "phi_of_r_analytic_STARS = HERN_potential(_r=inputs_RC,_p0=_p0_STARS,_a=_a_STARS,_Grav_constant=_Grav_constant_cgs)\n",
    "\n",
    "#PHI of R Numerical\n",
    "#DM \n",
    "_phi_of_r_x_vals_DM, phi_of_r_numerical_DM = phi_solver_of_rho(_r=inputs_RC, _analytic_rho=DM_rho_dist_NFW,\n",
    "                                                                 _analytic_phi=phi_of_r_analytic_DM,\n",
    "                                                                 _int_function=trap_function, _Grav_const=_Grav_constant_cgs, _normalize=True)\n",
    "# STARS\n",
    "#DM \n",
    "_phi_of_r_x_vals_STARS, phi_of_r_numerical_STARS = phi_solver_of_rho(_r=inputs_RC, _analytic_rho=STARS_rho_dist_HERN,\n",
    "                                                                 _analytic_phi=phi_of_r_analytic_STARS,\n",
    "                                                                _int_function=trap_function, _Grav_const=_Grav_constant_cgs, _normalize=True)\n",
    "\n",
    "\n",
    "\n",
    "#circular velocity ANALYTIC\n",
    "# DM\n",
    "_vcirc_of_r_x_vals_DM_A, _phi_of_r_analytic_dir_DM = take_deriv(_x= inputs_RC,\n",
    "                                                              _y=phi_of_r_analytic_DM)\n",
    "\n",
    "vcirc_of_r_analytic_DM = np.sqrt(_vcirc_of_r_x_vals_DM_A * np.abs(_phi_of_r_analytic_dir_DM))\n",
    "\n",
    "# STARS\n",
    "_vcirc_of_r_x_vals_STARS_A, _phi_of_r_analytic_dir_STARS = take_deriv(_x= inputs_RC,\n",
    "                                                              _y=phi_of_r_analytic_STARS)\n",
    "\n",
    "vcirc_of_r_analytic_STARS = np.sqrt(_vcirc_of_r_x_vals_STARS_A * np.abs(_phi_of_r_analytic_dir_STARS))\n",
    "\n",
    "# ANALYTIC TOTAL\n",
    "\n",
    "_vcirc_of_r_x_vals_TOT_A, _phi_of_r_analytic_dir_TOT = take_deriv(_x= inputs_RC,\n",
    "                                                              _y=phi_of_r_analytic_DM+\n",
    "                                                                  phi_of_r_analytic_STARS)\n",
    "\n",
    "vcirc_of_r_analytic_TOT = np.sqrt(_vcirc_of_r_x_vals_DM_A * np.abs(_phi_of_r_analytic_dir_TOT))\n",
    "\n",
    "\n",
    "\n",
    "\n",
    "\n",
    "#circular velocity numerical\n",
    "# DM\n",
    "_vcirc_of_r_x_vals_DM, vcirc_of_r_numerical_DM = take_deriv(_x= _phi_of_r_x_vals_DM,\n",
    "                                                              _y=phi_of_r_numerical_DM)\n",
    "\n",
    "vcirc_of_r_numerical_DM = np.sqrt(_vcirc_of_r_x_vals_DM * np.abs(vcirc_of_r_numerical_DM))\n",
    "\n",
    "# STARS\n",
    "_vcirc_of_r_x_vals_STARS, vcirc_of_r_numerical_STARS = take_deriv(_x= _phi_of_r_x_vals_STARS,\n",
    "                                                              _y=phi_of_r_numerical_STARS)\n",
    "\n",
    "vcirc_of_r_numerical_STARS = np.sqrt(_vcirc_of_r_x_vals_STARS * np.abs(vcirc_of_r_numerical_STARS))\n",
    "\n",
    "# Numerical TOTAL\n",
    "_vcirc_of_r_x_vals_TOT_N, _phi_of_r_numerical_dir_TOT = take_deriv(_x= _phi_of_r_x_vals_STARS,\n",
    "                                                              _y=phi_of_r_numerical_DM+\n",
    "                                                                  phi_of_r_numerical_STARS)\n",
    "\n",
    "vcirc_of_r_numerical_TOT = np.sqrt(_vcirc_of_r_x_vals_TOT_N * np.abs(_phi_of_r_numerical_dir_TOT))\n",
    "\n",
    "\n",
    "\n"
   ]
  },
  {
   "cell_type": "code",
   "execution_count": 22,
   "metadata": {
    "ExecuteTime": {
     "end_time": "2020-04-24T23:42:06.262017Z",
     "start_time": "2020-04-24T23:42:04.485765Z"
    }
   },
   "outputs": [
    {
     "data": {
      "image/png": "[encoded data removed]",
      "text/plain": [
       "<Figure size 1440x720 with 3 Axes>"
      ]
     },
     "metadata": {
      "needs_background": "light"
     },
     "output_type": "display_data"
    }
   ],
   "source": [
    "fig = plt.figure(4)\n",
    "fig.set_figheight(10)\n",
    "fig.set_figwidth(20)\n",
    "\n",
    "# create axis object\n",
    "ax = plt.subplot(131)\n",
    "plt.grid(True)\n",
    "\n",
    "# ploting\n",
    "\n",
    "plt.plot(inputs_RC*cm_to_pc, DM_rho_dist_NFW*cgs_rho_to_solar_pc_rho,'Navy',label=r'$\\mathrm{DM}$')\n",
    "plt.plot(inputs_RC*cm_to_pc, STARS_rho_dist_HERN*cgs_rho_to_solar_pc_rho, 'tab:orange',label=r'$\\mathrm{Stars}$')\n",
    "plt.plot(inputs_RC*cm_to_pc, TOT_rho_dist*cgs_rho_to_solar_pc_rho, 'tab:green',marker=\"*\",label=r'$\\mathrm{DM\\ +\\ STARS}$')\n",
    "\n",
    "# labeling\n",
    "plt.title(r'$\\mathrm{\\rho(r)\\ vs.\\ r}$', size=30)\n",
    "plt.xlabel(r'$\\mathrm{Log\\ r\\ [pc]}$', size=30)\n",
    "plt.ylabel(r'$\\mathrm{ Log\\ \\rho(r)\\ [M_{\\odot}\\ pc^{-3}] }$', size=30)\n",
    "ax.tick_params(axis='x', which='major', labelsize=25)\n",
    "ax.tick_params(axis='y', which='major', labelsize=25)\n",
    "plt.semilogy()\n",
    "plt.semilogx()\n",
    "plt.legend(fontsize=20)\n",
    "plt.tight_layout()\n",
    "\n",
    "# create axis space\n",
    "ax = plt.subplot(132)\n",
    "plt.grid(True)\n",
    "\n",
    "# ploting\n",
    "plt.plot(_phi_of_r_x_vals_DM*cm_to_pc, -phi_of_r_numerical_DM,color=\"orange\",marker=\"+\",markevery=50,markersize=20,label=r'$\\mathrm{DM\\ N}$')\n",
    "# plt.plot(_phi_of_r_x_vals_STARS*cm_to_pc, -phi_of_r_numerical_STARS,color='navy',marker=\"+\",markevery=50,markersize=20,linewidth=3,label=r'$\\mathrm{STARS\\ N}$')\n",
    "# plt.plot(_phi_of_r_x_vals_STARS*cm_to_pc, -phi_of_r_numerical_STARS + -phi_of_r_numerical_DM,color='maroon',marker=\"+\",markevery=50,markersize=20,linewidth=3,label=r'$\\mathrm{STARS\\ +\\ DM\\ N}$')\n",
    "\n",
    "plt.plot(inputs_RC*cm_to_pc,-phi_of_r_analytic_DM,color='purple',linewidth=3,label=r'$\\mathrm{DM\\ A}$')\n",
    "# plt.plot(inputs_RC*cm_to_pc,-phi_of_r_analytic_STARS,color='green',linewidth=3,label=r'$\\mathrm{STARS\\ A}$')\n",
    "# plt.plot(inputs_RC*cm_to_pc,-phi_of_r_analytic_STARS+-phi_of_r_analytic_DM,color='cyan',linewidth=3,label=r'$\\mathrm{STARS\\ +\\ DM\\ A}$')\n",
    "# labeling\n",
    "plt.title(r'$\\mathrm{Log\\ -\\phi(r)\\ vs.\\ r}$', size=30)\n",
    "plt.xlabel(r'$\\mathrm{Log\\ r\\ [pc]}$', size=30)\n",
    "plt.ylabel(r'$\\mathrm{Log\\ (-\\phi(r))}$', size=30)\n",
    "ax.tick_params(axis='x', which='major', labelsize=25)\n",
    "ax.tick_params(axis='y', which='major', labelsize=25)\n",
    "plt.semilogy()\n",
    "plt.semilogx()\n",
    "plt.legend(fontsize=20)\n",
    "plt.tight_layout()\n",
    "\n",
    "\n",
    "# create axis space\n",
    "ax = plt.subplot(133)\n",
    "\n",
    "plt.grid(True)\n",
    "\n",
    "# ploting\n",
    "\n",
    "plt.plot(_vcirc_of_r_x_vals_DM_A*cm_to_pc, vcirc_of_r_analytic_DM*cm_to_km, color='cyan',label=r'$\\mathrm{DM\\ A\\ Phi}$')\n",
    "#  plt.plot(_vcirc_of_r_x_vals_STARS_A*cm_to_pc, vcirc_of_r_analytic_STARS*cm_to_km, color='tab:blue',label=r'$\\mathrm{STARS\\ A\\ Phi}$')\n",
    "# plt.plot(_vcirc_of_r_x_vals_TOT_A*cm_to_pc, vcirc_of_r_analytic_TOT*cm_to_km, color='tab:red',label=r'$\\mathrm{DM\\ +\\ Stars\\ A\\ Phi}$')\n",
    "plt.plot(_vcirc_of_r_x_vals_DM*cm_to_pc, vcirc_of_r_numerical_DM*cm_to_km, color='Navy',marker=\"+\",markevery=50,markersize=20,label=r'$\\mathrm{DM\\ N\\ Phi}$')\n",
    "# plt.plot(_vcirc_of_r_x_vals_STARS*cm_to_pc, vcirc_of_r_numerical_STARS*cm_to_km, color='tab:orange',marker=\"+\",markevery=50,markersize=20,label=r'$\\mathrm{STARS\\ N\\Phi }$')\n",
    "# plt.plot(_vcirc_of_r_x_vals_TOT_N*cm_to_pc, vcirc_of_r_numerical_TOT*cm_to_km, color='tab:green',marker=\"+\",markevery=50,markersize=20,label=r'$\\mathrm{DM\\ +\\ Stars\\ N\\ \\Phi}$')\n",
    "\n",
    "# labeling\n",
    "plt.title(r'$\\mathrm{V_{circ}\\ vs.\\ r}$', size=30)\n",
    "plt.xlabel(r'$\\mathrm{Log\\ r\\ [pc]}$', size=30)\n",
    "plt.ylabel(r'$\\mathrm{V_{circ}\\ [Km/s]}$', size=30)\n",
    "ax.tick_params(axis='x', which='major', labelsize=25)\n",
    "ax.tick_params(axis='y', which='major', labelsize=25)\n",
    "\n",
    "plt.semilogx()\n",
    "# plt.semilogy()\n",
    "plt.legend(fontsize=20)\n",
    "\n",
    "plt.tight_layout()"
   ]
  },
  {
   "cell_type": "code",
   "execution_count": 23,
   "metadata": {
    "ExecuteTime": {
     "end_time": "2020-04-24T23:42:07.313423Z",
     "start_time": "2020-04-24T23:42:07.301635Z"
    }
   },
   "outputs": [
    {
     "name": "stdout",
     "output_type": "stream",
     "text": [
      "order of magnitude 12\n"
     ]
    }
   ],
   "source": [
    "max_analytic = max(phi_of_r_analytic_STARS + phi_of_r_analytic_DM)\n",
    "print(\"order of magnitude\",math.floor(math.log10(np.abs(max_analytic))))\n"
   ]
  },
  {
   "cell_type": "markdown",
   "metadata": {},
   "source": [
    "## Numerical Distribution function"
   ]
  },
  {
   "cell_type": "markdown",
   "metadata": {},
   "source": [
    "## Testing with jagged arrays"
   ]
  },
  {
   "cell_type": "code",
   "execution_count": 65,
   "metadata": {
    "ExecuteTime": {
     "end_time": "2020-04-25T00:00:03.013704Z",
     "start_time": "2020-04-25T00:00:02.987234Z"
    }
   },
   "outputs": [],
   "source": [
    "def integrand_array_func(_epsilon_array,_rho_array, _psi_array):\n",
    "    _int_bin = np.zeros((_epsilon_array.size,_psi_array.size-1))\n",
    "    for ii in range(0,_epsilon_array.size):\n",
    "        for jj in range(0,_psi_array.size-1):\n",
    "            _d_rho               = np.diff(_rho_array[jj:jj+2])\n",
    "            _d_PSI               = np.diff(_psi_array[jj:jj+2])\n",
    "            _PSI_bin_center      = 0.5 * np.sum(_psi_array[jj:jj+2])\n",
    "            if _d_PSI.size != 1 or _PSI_bin_center.size != 1 or _d_rho.size != 1:\n",
    "                print (jj)\n",
    "                raise ValueError(\"d's in integrand array func is messed up\")\n",
    "                \n",
    "            if _PSI_bin_center > _epsilon_array[ii]:\n",
    "                break\n",
    "#                 raise ValueError(\"nan in integrand_array_func\")\n",
    "            else:\n",
    "                _d_PSI = _d_PSI.item(0)\n",
    "            _sqrt_term           = np.sqrt(_epsilon_array[ii]-_PSI_bin_center)\n",
    "            if _sqrt_term == np.nan or _sqrt_term == 0:\n",
    "                print (\"this occured at the iith element ->\",ii)\n",
    "                raise ValueError(\"your sqrt in the integrand array is 0 or nan\")\n",
    "                \n",
    "            _int_bin[ii,jj] = (_d_rho/_d_PSI)*(_d_PSI/_sqrt_term)\n",
    "    return _int_bin\n",
    "\n",
    "def integrate_derived_integrand_array(_bin_centers,_integrand_array,_epsilon_array,_PSI_array):\n",
    "    _test_final_bin  = np.zeros(_integrand_array.shape[0])\n",
    "    _right_edges_bin = np.zeros(_integrand_array.shape[0])\n",
    "    \n",
    "    for aa in range(0,_integrand_array.shape[0]):\n",
    "        \n",
    "        _PSI_limits = _PSI_array[:aa+3][-1]\n",
    "        _bin_centers_iterate = _bin_centers[_bin_centers < _PSI_limits]\n",
    "        print (_bin_centers_iterate,\"bin centers\")\n",
    "        _row = _integrand_array[aa][:np.count_nonzero(_integrand_array[aa])]\n",
    "        _row = _row[:_bin_centers_iterate.size]\n",
    "        print (_row,\"integrand row\")\n",
    "        \n",
    "        if _bin_centers_iterate.size < 2 or _row.size < 2 :\n",
    "            print (aa,\"th value\")\n",
    "            raise ValueError(\"Your bin centers or integrand array are fucked up\")\n",
    "            \n",
    "        \n",
    "        if np.diff(_PSI_array[aa:aa+2]) < 1e-16:\n",
    "            raise ValueError(\"Your PSI values are not changing\")\n",
    "        \n",
    "        if np.diff(_bin_centers[aa:aa+2]) < 1e-16:\n",
    "            raise ValueError(\"Your bin_centers_PSI values are not changing\")        \n",
    "        \n",
    "        if np.isnan(_row).sum() > 0 or np.count_nonzero(_row) != _row.size:\n",
    "            print (np.count_nonzero(_row))\n",
    "            print (_row)\n",
    "            print (\"this many nans\",np.isnan(_row).sum(),\"this many zeros\",_row.size-np.count_nonzero(_row))\n",
    "            raise ValueError (\"you have a zero or nan in the integrand\")\n",
    "        \n",
    "#         print (\"right bfore integrating\",_bin_centers_iterate,_row)\n",
    "        _bin_edges, _num_integral= trap_function(_input_array=_bin_centers_iterate,\n",
    "                                                 _function_array=_row,\n",
    "                                                 _cumulative_anti=False)\n",
    "        _test_final_bin[aa] = _num_integral\n",
    "    \n",
    "    return np.array((_bin_edges,_test_final_bin))\n",
    "\n",
    "# test_r_edges,test_int_array = integrate_derived_integrand_array(_bin_centers=_PSI_bin_centers,\n",
    "#                                                               _integrand_array=_integrand_array_test)\n",
    "\n",
    "def derive_integrated_array(_epsilon_array,_integrated_array):\n",
    "    _bin_centers_final_f_e,_final_f_e = take_deriv(_x=_epsilon_array,_y=_integrated_array)\n",
    "\n",
    "    return np.array((_bin_centers_final_f_e,_final_f_e))\n",
    "\n",
    "\n",
    "\n",
    "\n",
    "def integrand_array_func_V2(_PSI_array,_f_eps_array,_f_eps_bin_edges_array):\n",
    "    _int_bin = np.zeros((_PSI_array.size,_f_eps_array.size-1))\n",
    "    for ii in range(0,_PSI_array.size):\n",
    "        for jj in range(0,_f_eps_array.size-1):\n",
    "#             print (_f_eps_array[jj:jj+2])\n",
    "            f_eps_widths        = np.diff(_f_eps_array[jj:jj+2])\n",
    "            # calc d_epslion\n",
    "            d_new_eps           = np.diff(_f_eps_bin_edges_array[jj:jj+2])\n",
    "            \n",
    "            # Calc Bin Centers for Epsilon\n",
    "            _eps_bin_centers    = 0.5 * np.sum(_f_eps_bin_edges_array[jj:jj+2])\n",
    "            \n",
    "            # Calc sqrt term\n",
    "            _sqrt_term          = np.sqrt(2 * (_PSI_array[ii] -_eps_bin_centers))\n",
    "            \n",
    "            # only integrate up to PSI\n",
    "            if _eps_bin_centers > _PSI_array[ii]:\n",
    "                break\n",
    "\n",
    "            if f_eps_widths.size != 1:\n",
    "                break\n",
    "                \n",
    "            if _PSI_array[ii] -_eps_bin_centers == np.nan:\n",
    "                raise ValueError(\" nan in your sqrt(psi-eps) term\")\n",
    "            if f_eps_widths == np.nan:\n",
    "                raise ValueError(\"nan in your _f_eps_array\")\n",
    "#             print (\"sqrt term\",_sqrt_term)\n",
    "#             stop\n",
    "            _int_bin[ii,jj] = f_eps_widths*_sqrt_term*_eps_bin_centers\n",
    "    return _int_bin\n",
    "\n",
    "def integrate_integrand_array(_bin_centers,_integrand_array,_epsilon_array):\n",
    "    _test_final_bin  = np.zeros(_integrand_array.shape[0])\n",
    "    _right_edges_bin = np.zeros(_integrand_array.shape[0])\n",
    "#     print (_integrand_array.shape[0])\n",
    "#     stop\n",
    "    \n",
    "    for aa in range(0,_integrand_array.shape[0]):\n",
    "        _row = _integrand_array[aa]\n",
    "        _bin_edges, _num_integral= trap_function(_input_array=_bin_centers,\n",
    "                                                 _function_array=_row,\n",
    "                                                 _cumulative_anti=False)\n",
    "        _test_final_bin[aa] = _num_integral\n",
    "        _right_edges_bin[aa]= _bin_edges\n",
    "    \n",
    "    return np.array((_right_edges_bin,_test_final_bin))\n",
    "\n",
    "\n",
    "\n",
    "\n"
   ]
  },
  {
   "cell_type": "markdown",
   "metadata": {},
   "source": [
    "### Def f(epsilon)"
   ]
  },
  {
   "cell_type": "code",
   "execution_count": 66,
   "metadata": {
    "ExecuteTime": {
     "end_time": "2020-04-25T00:00:04.157699Z",
     "start_time": "2020-04-25T00:00:04.147393Z"
    }
   },
   "outputs": [],
   "source": [
    "# cgs\n",
    "def f_E_abel(_r, _epsilon_array):\n",
    "#     _epsilon_array = _epsilon_array[::-1]\n",
    "    \n",
    "    # define constants\n",
    "    _constants = 1.0 / ((np.pi**2.0) * np.sqrt(8.0))\n",
    "    \n",
    "    # define DM and stars potential distributions\n",
    "    _DM_potential = NFW_potential(\n",
    "        _r=_r, _p0=_p0_DM, _a=_a_DM, _Grav_constant=_Grav_constant_cgs)\n",
    "#     _STARS_potential = HERN_potential(\n",
    "#         _r=_r, _p0=_p0_STARS, _a=_a_STARS, _Grav_constant=_Grav_constant_cgs)\n",
    "    \n",
    "    # sum potential distributions\n",
    "    _TOT_Potential = _DM_potential# + _STARS_potential\n",
    "    \n",
    "    # define phi_0 constant\n",
    "    _phi_constant = max(_TOT_Potential)\n",
    "#     print (\"the constant is \", _phi_constant)\n",
    "    # define PSI\n",
    "    _TOT_PSI = -_TOT_Potential + _phi_constant\n",
    "    _TOT_PSI = _TOT_PSI[::-1]\n",
    "    #\n",
    "    \n",
    "    # Define DM and Star density distributions\n",
    "    _DM_rho_dist = rho_dehnen(\n",
    "        _r=_r, _p0=_p0_DM, _a=_a_DM, _alpha=1, _beta=3)\n",
    "#     _STARS_rho_dist = rho_dehnen(\n",
    "#         _r=_r, _p0=_p0_STARS, _a=_a_STARS, _alpha=1, _beta=4)\n",
    "    \n",
    "    # sum density distributions\n",
    "    _TOT_density = _DM_rho_dist #+ _STARS_rho_dist\n",
    "    _TOT_density = _TOT_density[::-1]\n",
    "    \n",
    "    # define integrand\n",
    "    _integrand_array = integrand_array_func(_epsilon_array=_epsilon_array,\n",
    "                                       _rho_array=_TOT_density,\n",
    "                                       _psi_array=_TOT_PSI)\n",
    "#     print (_integrand_array)\n",
    "    \n",
    "#     return _integrand_array\n",
    "    # define Psi bin centers\n",
    "    _PSI_bin_centers = ((_TOT_PSI[:-1] + _TOT_PSI[1:]) / 2.0)\n",
    " \n",
    "    \n",
    "    # define bin for f(E)\n",
    "    _right_edge_bins,_result = integrate_derived_integrand_array(_bin_centers=_PSI_bin_centers,\n",
    "                                                                    _integrand_array=_integrand_array,\n",
    "                                                                _epsilon_array=_epsilon_array,\n",
    "                                                                _PSI_array=_TOT_PSI)\n",
    "    # take derivative with respect to epsilon\n",
    "    _bin_centers, _result, = derive_integrated_array(_epsilon_array=_epsilon_array,_integrated_array=_result)\n",
    "    \n",
    "    return np.array((_bin_centers,_constants*_result,_TOT_PSI,_PSI_bin_centers))\n",
    "\n",
    "\n"
   ]
  },
  {
   "cell_type": "markdown",
   "metadata": {},
   "source": [
    "### Test f(epsilon)"
   ]
  },
  {
   "cell_type": "code",
   "execution_count": 67,
   "metadata": {
    "ExecuteTime": {
     "end_time": "2020-04-25T00:00:05.304117Z",
     "start_time": "2020-04-25T00:00:05.265579Z"
    }
   },
   "outputs": [
    {
     "name": "stdout",
     "output_type": "stream",
     "text": [
      "[1.35193822e+12 4.44746393e+12] bin centers\n",
      "[8.35081023e-41 2.65519091e-40] integrand row\n",
      "[3.09552571e+12]\n",
      "[1.35193822e+12 4.44746393e+12 8.43195945e+12] bin centers\n",
      "[6.27234796e-41 1.78881467e-40 5.54707650e-40] integrand row\n",
      "[3.09552571e+12]\n",
      "[3.98449551e+12]\n",
      "[1.35193822e+12 4.44746393e+12 8.43195945e+12 1.35417738e+13] bin centers\n",
      "[4.77288584e-41 1.29400681e-40 3.61773217e-40 1.07264543e-39] integrand row\n",
      "[3.09552571e+12]\n",
      "[3.98449551e+12]\n",
      "[5.10981437e+12]\n",
      "[1.35193822e+12 4.44746393e+12 8.43195945e+12 1.35417738e+13\n",
      " 2.00675377e+13] bin centers\n",
      "[3.65824997e-41 9.65784239e-41 2.58503290e-40 7.07051979e-40\n",
      " 2.00765170e-39] integrand row\n",
      "[3.09552571e+12]\n",
      "[3.98449551e+12]\n",
      "[5.10981437e+12]\n",
      "[6.52576384e+12]\n",
      "[1.35193822e+12 4.44746393e+12 8.43195945e+12 1.35417738e+13\n",
      " 2.00675377e+13 2.83625827e+13] bin centers\n",
      "[2.81558506e-41 7.32390625e-41 1.91804622e-40 5.07201236e-40\n",
      " 1.36070802e-39 3.73500745e-39] integrand row\n",
      "[3.09552571e+12]\n",
      "[3.98449551e+12]\n",
      "[5.10981437e+12]\n",
      "[6.52576384e+12]\n",
      "[8.29504502e+12]\n",
      "[1.35193822e+12 4.44746393e+12 8.43195945e+12 1.35417738e+13\n",
      " 2.00675377e+13 2.83625827e+13 3.88505616e+13] bin centers\n",
      "[2.17228815e-41 5.60267144e-41 1.45000999e-40 3.77028931e-40\n",
      " 9.86683202e-40 2.60590237e-39 6.97646718e-39] integrand row\n",
      "[3.09552571e+12]\n",
      "[3.98449551e+12]\n",
      "[5.10981437e+12]\n",
      "[6.52576384e+12]\n",
      "[8.29504502e+12]\n",
      "[1.04879789e+13]\n",
      "[1.35193822e+12 4.44746393e+12 8.43195945e+12 1.35417738e+13\n",
      " 2.00675377e+13 2.83625827e+13 3.88505616e+13 5.20308184e+13] bin centers\n",
      "[1.67837214e-41 4.30729215e-41 1.10730885e-40 2.85304349e-40\n",
      " 7.37275083e-40 1.91274595e-39 4.98888387e-39 1.31097224e-38] integrand row\n",
      "[3.09552571e+12]\n",
      "[3.98449551e+12]\n",
      "[5.10981437e+12]\n",
      "[6.52576384e+12]\n",
      "[8.29504502e+12]\n",
      "[1.04879789e+13]\n",
      "[1.31802569e+13]\n",
      "[1.35193822e+12 4.44746393e+12 8.43195945e+12 1.35417738e+13\n",
      " 2.00675377e+13 2.83625827e+13 3.88505616e+13 5.20308184e+13\n",
      " 6.84793224e+13] bin centers\n",
      "[1.29786238e-41 3.32099104e-41 8.50440159e-41 2.17992232e-40\n",
      " 5.59453902e-40 1.43795628e-39 3.70301214e-39 9.55915130e-39\n",
      " 2.47546270e-38] integrand row\n",
      "[3.09552571e+12]\n",
      "[3.98449551e+12]\n",
      "[5.10981437e+12]\n",
      "[6.52576384e+12]\n",
      "[8.29504502e+12]\n",
      "[1.04879789e+13]\n",
      "[1.31802569e+13]\n",
      "[1.64485039e+13]\n",
      "[1.35193822e+12 4.44746393e+12 8.43195945e+12 1.35417738e+13\n",
      " 2.00675377e+13 2.83625827e+13 3.88505616e+13 5.20308184e+13\n",
      " 6.84793224e+13 8.88420601e+13] bin centers\n",
      "[1.00412869e-41 2.56489469e-41 6.55319459e-41 1.67475346e-40\n",
      " 4.28124004e-40 1.09473167e-39 2.79995097e-39 7.16246875e-39\n",
      " 1.83223214e-38 4.68598520e-38] integrand row\n",
      "[3.09552571e+12]\n",
      "[3.98449551e+12]\n",
      "[5.10981437e+12]\n",
      "[6.52576384e+12]\n",
      "[8.29504502e+12]\n",
      "[1.04879789e+13]\n",
      "[1.31802569e+13]\n",
      "[1.64485039e+13]\n",
      "[2.03627377e+13]\n",
      "[1.35193822e+12 4.44746393e+12 8.43195945e+12 1.35417738e+13\n",
      " 2.00675377e+13 2.83625827e+13 3.88505616e+13 5.20308184e+13\n",
      " 6.84793224e+13 8.88420601e+13 1.13816773e+14] bin centers\n",
      "[7.77108706e-42 1.98293900e-41 5.05946687e-41 1.29074076e-40\n",
      " 3.29205449e-40 8.39305143e-40 2.13842767e-39 5.44301113e-39\n",
      " 1.38335461e-38 3.50802296e-38 8.86711616e-38] integrand row\n",
      "[3.09552571e+12]\n",
      "[3.98449551e+12]\n",
      "[5.10981437e+12]\n",
      "[6.52576384e+12]\n",
      "[8.29504502e+12]\n",
      "[1.04879789e+13]\n",
      "[1.31802569e+13]\n",
      "[1.64485039e+13]\n",
      "[2.03627377e+13]\n",
      "[2.49747125e+13]\n"
     ]
    }
   ],
   "source": [
    "# r inputs\n",
    "# inputs_R = (np.linspace(1e14,1e25,20)*100)\n",
    "inputs_R = (np.logspace(18,26,60))\n",
    "# epsilons\n",
    "# inputs_epsilon = (np.linspace(-1e20,1e20,40)*100)\n",
    "inputs_epsilon = (np.logspace(13,15,10))\n",
    "\n",
    "#\n",
    "# _,int_array_test = f_E_abel(_r=inputs_R, _epsilon_array=inputs_epsilon)\n",
    "f_e_bin_edges,f_e_array,PSI_TOT_array, PSI_bin_centers = f_E_abel(_r=inputs_R, _epsilon_array=inputs_epsilon)\n",
    "\n",
    "\n",
    "\n"
   ]
  },
  {
   "cell_type": "code",
   "execution_count": null,
   "metadata": {},
   "outputs": [],
   "source": []
  },
  {
   "cell_type": "code",
   "execution_count": 68,
   "metadata": {
    "ExecuteTime": {
     "end_time": "2020-04-25T00:00:10.797998Z",
     "start_time": "2020-04-25T00:00:10.454244Z"
    }
   },
   "outputs": [
    {
     "data": {
      "image/png": "[encoded data removed]",
      "text/plain": [
       "<Figure size 432x432 with 1 Axes>"
      ]
     },
     "metadata": {
      "needs_background": "light"
     },
     "output_type": "display_data"
    }
   ],
   "source": [
    "fig = plt.figure(5)\n",
    "fig.set_figheight(6)\n",
    "fig.set_figwidth(6)\n",
    "\n",
    "# create axis object\n",
    "ax = plt.subplot(111)\n",
    "plt.grid(True)\n",
    "\n",
    "# ploting\n",
    "\n",
    "plt.plot(f_e_bin_edges,f_e_array,'Navy',label=r'$\\mathrm{f(\\epsilon)}$')\n",
    "\n",
    "# labeling\n",
    "plt.title(r'$\\mathrm{DM\\ Only}$', size=30)\n",
    "plt.xlabel(r'$\\mathrm{\\epsilon}$', size=30)\n",
    "plt.ylabel(r'$\\mathrm{f(\\epsilon)}$', size=30)\n",
    "ax.tick_params(axis='x', which='major', labelsize=25)\n",
    "ax.tick_params(axis='y', which='major', labelsize=25)\n",
    "# plt.xlim(-1e22,1e23)\n",
    "# plt.semilogy()\n",
    "plt.semilogx()\n",
    "plt.legend(fontsize=20)\n",
    "plt.tight_layout()"
   ]
  },
  {
   "cell_type": "markdown",
   "metadata": {},
   "source": [
    "### Recover rho  (r) "
   ]
  },
  {
   "cell_type": "code",
   "execution_count": null,
   "metadata": {},
   "outputs": [],
   "source": [
    "\n",
    "rho_of_r_eps = integrand_array_func_V2(_PSI_array=PSI_bin_centers,\n",
    "                                        _f_eps_array=f_e_array,\n",
    "                                        _f_eps_bin_edges_array=f_e_bin_edges)\n",
    "\n",
    "rho_r_bin_edges,rho_r_array = integrate_integrand_array(_bin_centers=PSI_bin_centers,\n",
    "                                                        _integrand_array=rho_of_r_eps,\n",
    "                                                        _epsilon_array=f_e_bin_edges)\n",
    "\n"
   ]
  },
  {
   "cell_type": "code",
   "execution_count": null,
   "metadata": {},
   "outputs": [],
   "source": [
    "fig = plt.figure(8)\n",
    "fig.set_figheight(6)\n",
    "fig.set_figwidth(6)\n",
    "\n",
    "# create axis object\n",
    "ax = plt.subplot(111)\n",
    "plt.grid(True)\n",
    "\n",
    "# ploting\n",
    "\n",
    "plt.plot(inputs_RC*cm_to_pc, DM_rho_dist_NFW*cgs_rho_to_solar_pc_rho,'Navy',label=r'$\\mathrm{DM\\ A}$')\n",
    "plt.plot(rho_r_bin_edges*cm_to_pc, rho_r_array*cgs_rho_to_solar_pc_rho,'tab:red',marker=\"+\",markersize=15,\n",
    "         label=r'$\\mathrm{DM\\ 5.149}$')\n",
    "\n",
    "\n",
    "# labeling\n",
    "plt.title(r'$\\mathrm{\\rho(r)\\ vs.\\ r}$', size=30)\n",
    "plt.xlabel(r'$\\mathrm{Log\\ r\\ [pc]}$', size=30)\n",
    "plt.ylabel(r'$\\mathrm{ Log\\ \\rho(r)\\ [M_{\\odot}\\ pc^{-3}] }$', size=30)\n",
    "ax.tick_params(axis='x', which='major', labelsize=25)\n",
    "ax.tick_params(axis='y', which='major', labelsize=25)\n",
    "plt.semilogy()\n",
    "plt.semilogx()\n",
    "plt.legend(fontsize=20)\n",
    "plt.tight_layout()"
   ]
  },
  {
   "cell_type": "code",
   "execution_count": 42,
   "metadata": {
    "ExecuteTime": {
     "end_time": "2020-04-24T23:49:43.283345Z",
     "start_time": "2020-04-24T23:49:43.279190Z"
    }
   },
   "outputs": [],
   "source": [
    "f = np.array([])"
   ]
  },
  {
   "cell_type": "code",
   "execution_count": 43,
   "metadata": {
    "ExecuteTime": {
     "end_time": "2020-04-24T23:49:47.604059Z",
     "start_time": "2020-04-24T23:49:47.141865Z"
    }
   },
   "outputs": [
    {
     "data": {
      "image/png": "[encoded data removed]",
      "text/latex": [
       "$$0$$"
      ],
      "text/plain": [
       "0"
      ]
     },
     "execution_count": 43,
     "metadata": {},
     "output_type": "execute_result"
    }
   ],
   "source": [
    "f.size"
   ]
  },
  {
   "cell_type": "code",
   "execution_count": 58,
   "metadata": {
    "ExecuteTime": {
     "end_time": "2020-04-24T23:55:38.109917Z",
     "start_time": "2020-04-24T23:55:38.092924Z"
    }
   },
   "outputs": [
    {
     "name": "stdout",
     "output_type": "stream",
     "text": [
      "[0.         0.16326531 0.32653061 0.48979592 0.65306122 0.81632653\n",
      " 0.97959184 1.14285714 1.30612245 1.46938776 1.63265306 1.79591837\n",
      " 1.95918367 2.12244898 2.28571429 2.44897959 2.6122449  2.7755102\n",
      " 2.93877551 3.10204082 3.26530612 3.42857143 3.59183673 3.75510204\n",
      " 3.91836735 4.08163265 4.24489796 4.40816327 4.57142857 4.73469388\n",
      " 4.89795918 5.06122449 5.2244898  5.3877551  5.55102041 5.71428571\n",
      " 5.87755102 6.04081633 6.20408163 6.36734694 6.53061224 6.69387755\n",
      " 6.85714286 7.02040816 7.18367347 7.34693878 7.51020408 7.67346939\n",
      " 7.83673469 8.        ]\n"
     ]
    },
    {
     "ename": "ValueError",
     "evalue": "setting an array element with a sequence.",
     "output_type": "error",
     "traceback": [
      "\u001b[0;31m---------------------------------------------------------------------------\u001b[0m",
      "\u001b[0;31mTypeError\u001b[0m                                 Traceback (most recent call last)",
      "\u001b[0;31mTypeError\u001b[0m: only size-1 arrays can be converted to Python scalars",
      "\nThe above exception was the direct cause of the following exception:\n",
      "\u001b[0;31mValueError\u001b[0m                                Traceback (most recent call last)",
      "\u001b[0;32m<ipython-input-58-7f61df9d7a00>\u001b[0m in \u001b[0;36m<module>\u001b[0;34m\u001b[0m\n\u001b[1;32m      2\u001b[0m \u001b[0mprint\u001b[0m \u001b[0;34m(\u001b[0m\u001b[0mx\u001b[0m\u001b[0;34m)\u001b[0m\u001b[0;34m\u001b[0m\u001b[0;34m\u001b[0m\u001b[0m\n\u001b[1;32m      3\u001b[0m \u001b[0mf\u001b[0m \u001b[0;34m=\u001b[0m \u001b[0mx\u001b[0m\u001b[0;34m**\u001b[0m\u001b[0;36m2\u001b[0m\u001b[0;34m\u001b[0m\u001b[0;34m\u001b[0m\u001b[0m\n\u001b[0;32m----> 4\u001b[0;31m \u001b[0m_\u001b[0m\u001b[0;34m,\u001b[0m \u001b[0mint\u001b[0m \u001b[0;34m=\u001b[0m \u001b[0mtrap_function\u001b[0m\u001b[0;34m(\u001b[0m\u001b[0m_input_array\u001b[0m\u001b[0;34m=\u001b[0m\u001b[0mx\u001b[0m\u001b[0;34m[\u001b[0m\u001b[0;34m:\u001b[0m\u001b[0;34m-\u001b[0m\u001b[0;36m1\u001b[0m\u001b[0;34m]\u001b[0m\u001b[0;34m,\u001b[0m\u001b[0m_function_array\u001b[0m\u001b[0;34m=\u001b[0m\u001b[0mf\u001b[0m\u001b[0;34m)\u001b[0m\u001b[0;34m\u001b[0m\u001b[0;34m\u001b[0m\u001b[0m\n\u001b[0m",
      "\u001b[0;32m<ipython-input-16-6df306903721>\u001b[0m in \u001b[0;36mtrap_function\u001b[0;34m(_input_array, _function_array, _cumulative_anti)\u001b[0m\n\u001b[1;32m     35\u001b[0m             \u001b[0;31m# integrate\u001b[0m\u001b[0;34m\u001b[0m\u001b[0;34m\u001b[0m\u001b[0;34m\u001b[0m\u001b[0m\n\u001b[1;32m     36\u001b[0m             integral_result[ii-1] = ((_dx/2.0) *\n\u001b[0;32m---> 37\u001b[0;31m                                      np.sum(_f_right + _f_left))+previous_value\n\u001b[0m\u001b[1;32m     38\u001b[0m             \u001b[0;31m# store previous value for summation\u001b[0m\u001b[0;34m\u001b[0m\u001b[0;34m\u001b[0m\u001b[0;34m\u001b[0m\u001b[0m\n\u001b[1;32m     39\u001b[0m             \u001b[0mprevious_value\u001b[0m \u001b[0;34m=\u001b[0m \u001b[0mintegral_result\u001b[0m\u001b[0;34m[\u001b[0m\u001b[0mii\u001b[0m\u001b[0;34m-\u001b[0m\u001b[0;36m1\u001b[0m\u001b[0;34m]\u001b[0m\u001b[0;34m\u001b[0m\u001b[0;34m\u001b[0m\u001b[0m\n",
      "\u001b[0;31mValueError\u001b[0m: setting an array element with a sequence."
     ]
    }
   ],
   "source": [
    "x = np.linspace(0,8)\n",
    "print (x)\n",
    "f = x**2\n",
    "_, int = trap_function(_input_array=x[:-1],_function_array=f)"
   ]
  },
  {
   "cell_type": "code",
   "execution_count": null,
   "metadata": {},
   "outputs": [],
   "source": []
  }
 ],
 "metadata": {
  "celltoolbar": "Initialization Cell",
  "kernelspec": {
   "display_name": "Python 3",
   "language": "python",
   "name": "python3"
  },
  "language_info": {
   "codemirror_mode": {
    "name": "ipython",
    "version": 3
   },
   "file_extension": ".py",
   "mimetype": "text/x-python",
   "name": "python",
   "nbconvert_exporter": "python",
   "pygments_lexer": "ipython3",
   "version": "3.7.1"
  },
  "notify_time": "30",
  "toc": {
   "base_numbering": 1,
   "nav_menu": {
    "height": "10px",
    "width": "160px"
   },
   "number_sections": true,
   "sideBar": true,
   "skip_h1_title": false,
   "title_cell": "Table of Contents",
   "title_sidebar": "Contents",
   "toc_cell": false,
   "toc_position": {
    "height": "calc(100% - 180px)",
    "left": "10px",
    "top": "150px",
    "width": "320px"
   },
   "toc_section_display": true,
   "toc_window_display": false
  },
  "varInspector": {
   "cols": {
    "lenName": 16,
    "lenType": 16,
    "lenVar": 40
   },
   "kernels_config": {
    "python": {
     "delete_cmd_postfix": "",
     "delete_cmd_prefix": "del ",
     "library": "var_list.py",
     "varRefreshCmd": "print(var_dic_list())"
    },
    "r": {
     "delete_cmd_postfix": ") ",
     "delete_cmd_prefix": "rm(",
     "library": "var_list.r",
     "varRefreshCmd": "cat(var_dic_list()) "
    }
   },
   "types_to_exclude": [
    "module",
    "function",
    "builtin_function_or_method",
    "instance",
    "_Feature"
   ],
   "window_display": false
  }
 },
 "nbformat": 4,
 "nbformat_minor": 2
}
