{
 "cells": [
  {
   "cell_type": "markdown",
   "metadata": {},
   "source": [
    "# Michael Bueno"
   ]
  },
  {
   "cell_type": "code",
   "execution_count": 384,
   "metadata": {
    "ExecuteTime": {
     "end_time": "2020-05-07T15:25:27.149118Z",
     "start_time": "2020-05-07T15:25:26.987969Z"
    }
   },
   "outputs": [],
   "source": [
    "import numpy as np\n",
    "import math\n",
    "from sympy import init_printing\n",
    "init_printing() \n",
    "import matplotlib.pyplot as plt\n",
    "from matplotlib import rcParams\n",
    "rcParams['axes.linewidth'] = 2\n"
   ]
  },
  {
   "cell_type": "markdown",
   "metadata": {},
   "source": [
    "# Constants"
   ]
  },
  {
   "cell_type": "code",
   "execution_count": 385,
   "metadata": {
    "ExecuteTime": {
     "end_time": "2020-05-07T15:25:27.612576Z",
     "start_time": "2020-05-07T15:25:27.605535Z"
    }
   },
   "outputs": [],
   "source": [
    "G_cgs     = 6.67e-8 # grav constant cgs\n",
    "G_solar_mass = 4.48e-3    # pc cubed per solar mass per myr squared\n",
    "k_boltz_cgs   = 1.380649e-16\n",
    "solar_mass_cgs = 2e33 #grams\n",
    "cgs_rho_to_solar_pc_rho = 1.48e22 # MULTIPLY cgs density by this to get solar mass pc^-3\n",
    "cm_to_km = 1e-5 # MULTIPLY cm by this to get km\n",
    "cm_to_pc = (3.086e18)**-1 # Multiply cm by this to get pc\n",
    "g_to_sm  = (1.98e33)**-1  # Multiply g by this to get solar masses\n",
    "\n",
    "\n",
    "\n"
   ]
  },
  {
   "cell_type": "markdown",
   "metadata": {
    "ExecuteTime": {
     "end_time": "2020-04-30T15:05:32.318681Z",
     "start_time": "2020-04-30T15:05:32.314388Z"
    }
   },
   "source": [
    "# Analytic Functions"
   ]
  },
  {
   "cell_type": "markdown",
   "metadata": {},
   "source": [
    "## Dehnen Models "
   ]
  },
  {
   "cell_type": "code",
   "execution_count": 386,
   "metadata": {
    "ExecuteTime": {
     "end_time": "2020-05-07T15:25:28.438579Z",
     "start_time": "2020-05-07T15:25:28.426648Z"
    }
   },
   "outputs": [],
   "source": [
    "def rho_dehnen(_r,_p0=1,_a=1,_alpha=1,_beta=3):\n",
    "    #default is NFW\n",
    "    _term_a = (_r/_a)**_alpha\n",
    "    _term_b = (1.0 + (_r/_a)) ** (_beta-_alpha)\n",
    "    _calc = _p0 /(_term_a*_term_b)\n",
    "    return _calc\n",
    "\n",
    "def NFW_potential(_r,_p0=1,_a=1,_Grav_constant=1):\n",
    "    _constants = -4.0*np.pi*_Grav_constant*_p0*(_a**2.0)\n",
    "    _fraction  = np.log(1.0 + (_r/_a)) / (_r/_a)\n",
    "    _calc = _constants * _fraction\n",
    "    return _calc\n",
    "\n",
    "def HERN_potential(_r,_p0=1,_a=1,_Grav_constant=1):\n",
    "    _constants = -4.0*np.pi*_Grav_constant*_p0*(_a**2.0)\n",
    "    _fraction  =  1.0 / (2.0*(1.0 + (_r/_a)))\n",
    "    _calc = _constants * _fraction\n",
    "    return _calc\n",
    "    \n",
    "            "
   ]
  },
  {
   "cell_type": "markdown",
   "metadata": {},
   "source": [
    "# Numerical Functions"
   ]
  },
  {
   "cell_type": "markdown",
   "metadata": {},
   "source": [
    "## Derivatives"
   ]
  },
  {
   "cell_type": "code",
   "execution_count": 387,
   "metadata": {
    "ExecuteTime": {
     "end_time": "2020-05-07T15:25:29.434548Z",
     "start_time": "2020-05-07T15:25:29.412854Z"
    }
   },
   "outputs": [],
   "source": [
    "# Take derivative of function (an array that is a function of x) W.R.T x\n",
    "def take_deriv(_x, _y):\n",
    "    \"\"\"\n",
    "    This function takes as input:\n",
    "    _x = function inputs\n",
    "    _y = f(function inputs _x)\n",
    "\n",
    "    Outputs an array with shape (len(_x-1),2);\n",
    "    containing two arrays: the bin centers for numerical derivative and numerical derivative(_x)\n",
    "    \"\"\"\n",
    "    _dy_dx = np.diff(_y)/np.diff(_x)\n",
    "    _x2 = (_x[:-1] + _x[1:]) / 2.0\n",
    "    return np.array((_x2, _dy_dx))\n",
    "\n",
    "# Poisson Solver for rho of r -> takes phi_of_r to start\n",
    "\n",
    "\n",
    "def rho_solver_for_phi_of_r_poisson(_r, _phi_func_array, _deriv_func=take_deriv, _Grav_const=1):\n",
    "    \"\"\"\n",
    "    This function calculates numerical rho(r) from the analytic phi of (r) expression by using the\n",
    "    poisson equation for spherically symmetric potentials\n",
    "\n",
    "    This function takes as input:\n",
    "    _r              = radius array\n",
    "    _phi_func_array = array containing phi(_r)\n",
    "    _deriv_func     = calls derivative function defined above\n",
    "    _Grav_constant  = Gravitational constant set equal to 1 as default\n",
    "\n",
    "    Outputs an array with shape (len(_r),2);\n",
    "    containing two arrays: the bin centers edges for numerical rho(r) and numerical rho(_r)\n",
    "\n",
    "    _normalize determines whether or not you want numerical rho to be normalized by the analytic\n",
    "    expression\n",
    "\n",
    "    \"\"\"\n",
    "    _RHS_constants = (4.0*np.pi*_Grav_const)\n",
    "    if _Grav_const < 2 and _Grav_const > 0.5 : print(\"_Grav_const is one\")\n",
    "    # make derivative pieces\n",
    "    _r, _d_phi_dr = _deriv_func(_x=_r, _y=_phi_func_array)\n",
    "\n",
    "    # start calcs\n",
    "    _first_term = (_r**2.0) * _d_phi_dr\n",
    "    _r, _outer_derive = _deriv_func(_x=_r, _y=_first_term)\n",
    "\n",
    "    # LHS of Poisson EQ\n",
    "    _LHS = (_r**-2.0) * _outer_derive\n",
    "    _calc = _LHS / _RHS_constants\n",
    "    return np.array((_r, _calc))\n",
    "\n",
    "# POISSON Rho solver for specified geometry\n",
    "\n",
    "\n",
    "def rho_of_r_poisson_numerical(_r, _phi_func_array, _rho_func_array, _deriv_func=take_deriv, _normalize=False):\n",
    "    \"\"\"\n",
    "    This function calculates numerical rho(r) from the analytic phi of (r) expression by using the\n",
    "    poisson equation for spherically symmetric potentials\n",
    "\n",
    "    This function takes as input:\n",
    "    _r              = radius array\n",
    "    _phi_func_array = array containing phi(_r)\n",
    "    _rho_func_array = array containing rho(_r)\n",
    "    _deriv_func     = calls derivative function defined above\n",
    "\n",
    "    Outputs an array with shape (len(_r-2),2);\n",
    "    containing two arrays: the bin centers for numerical rho(r) and numerical rho(_r)\n",
    "\n",
    "    _normalize determines whether or not you want numerical rho to be normalized by the analytic\n",
    "    expression\n",
    "\n",
    "    \"\"\"\n",
    "    _r_output, _calc = rho_solver_for_phi_of_r_poisson(\n",
    "        _r, _phi_func_array, _deriv_func=_deriv_func)\n",
    "\n",
    "    if _normalize == True:\n",
    "\n",
    "        # Normalization Constant\n",
    "        normalization_constant = _rho_func_array[0] / _calc[0]\n",
    "#         print (_calc.shape)\n",
    "\n",
    "        # Normalize and account for infs/nans\n",
    "        if _r_output.shape[0] < _calc[np.isfinite(_calc)].shape[0]:\n",
    "            _r_output = _r_output\n",
    "        else:\n",
    "            _r_output = _r_output[np.isfinite(_calc)]\n",
    "\n",
    "        _calc = _calc[np.isfinite(_calc)] * normalization_constant\n",
    "\n",
    "    return np.array((_r_output, _calc))\n",
    "\n",
    "\n"
   ]
  },
  {
   "cell_type": "markdown",
   "metadata": {},
   "source": [
    "## Integrals"
   ]
  },
  {
   "cell_type": "code",
   "execution_count": 388,
   "metadata": {
    "ExecuteTime": {
     "end_time": "2020-05-07T15:25:30.514981Z",
     "start_time": "2020-05-07T15:25:30.490859Z"
    }
   },
   "outputs": [],
   "source": [
    "def trap_function(_input_array, _function_array, _cumulative_anti=True):\n",
    "    \"\"\"\n",
    "    This function calculates the trapozoidal integral approximation of function_array accross the \n",
    "    entire function range\n",
    "\n",
    "    This function takes as input:\n",
    "    _input_array    = function inputs\n",
    "    _function_array = f(function inputs _x) \n",
    "\n",
    "    Outputs an array with shape (len(_input_array-1),2);\n",
    "    containing two arrays: the right bin edges for numerical integral and numerical integral of _function_array\n",
    "    \"\"\"\n",
    "    # number of points\n",
    "    _N = len(_function_array)\n",
    "    # def dx\n",
    "    _a, _b = 0, max(_input_array)\n",
    "    # holding bins\n",
    "    integral_result = np.zeros(len(_function_array)-1)\n",
    "    x_values = np.zeros(len(_function_array)-1)\n",
    "    # hard code first preset value\n",
    "    previous_value = 0\n",
    "\n",
    "    \n",
    "    if _cumulative_anti == True:\n",
    "        for ii in range(1, len(_function_array)):\n",
    "            # get endpoints\n",
    "            _f = _function_array[ii-1:ii+1]\n",
    "            # store x value corresponding to right endpoint\n",
    "            _x = _input_array[ii-1:ii+1]\n",
    "            # grab the spacing\n",
    "            _dx = np.diff(_x)\n",
    "            # def endpoint\n",
    "            _f_right = _f[1:]  # right endpoint\n",
    "            _f_left = _f[:-1]  # left endpoint\n",
    "            # integrate\n",
    "            integral_result[ii-1] = ((_dx/2.0) *\n",
    "                                     np.sum(_f_right + _f_left))+previous_value\n",
    "            # store previous value for summation\n",
    "            previous_value = integral_result[ii-1]\n",
    "            # save x values using right bin edge\n",
    "            x_values[ii-1] = _x[1:]\n",
    "    if _cumulative_anti == False:\n",
    "        for ii in range(1, len(_function_array)):\n",
    "            _f = _function_array[ii-1:ii+1]\n",
    "            # store x value corresponding to right endpoint\n",
    "            _x = _input_array[ii-1:ii+1]\n",
    "            # grab the spacing\n",
    "            _dx = np.diff(_x)\n",
    "#             print(_dx)\n",
    "            # def endpoint\n",
    "            _f_right = _f[1:]  # right endpoint\n",
    "            _f_left = _f[:-1]  # left endpoint\n",
    "            # integrate\n",
    "            _calc = ((_dx/2.0) * np.sum(_f_right + _f_left))\n",
    "            if _calc == np.nan:\n",
    "                raise ValueError(\"nan in integrater\")\n",
    "            integral_result[ii-1] = _calc  #+previous_value\n",
    "            # store previous value for summation\n",
    "            #previous_value = integral_result[ii-1]\n",
    "            # save x values using right bin edge\n",
    "            x_values[ii-1] = _x[1:]\n",
    "        integral_result = np.sum(integral_result)\n",
    "\n",
    "    return np.array((x_values, integral_result))\n",
    "\n",
    "\n",
    "def phi_solver_of_rho(_r, _analytic_rho, _analytic_phi, _int_function=trap_function, _Grav_const=1,\n",
    "                      _normalize=True):\n",
    "    \"\"\"\n",
    "    This function calculates the numerical phi(r) by using the poisson equation for spherically\n",
    "    symmetric potentials\n",
    "\n",
    "    This function takes as input:\n",
    "    _r            = radius array\n",
    "    _analytic_rho = array containing analytic rho(_r)\n",
    "    _analytic_phi = array containing analytic phi(_r)\n",
    "    _int_function = trapazoidal integral function defined above\n",
    "    _Grav_const   = 1\n",
    "\n",
    "    Outputs an array with shape (len(_r-1),2);\n",
    "    containing two arrays: the right bin edges for numerical integral and numerical integral of _function_array\n",
    "\n",
    "    _normalize determines whether or not you want numerical phi to be normalized by the analytic\n",
    "    expression\n",
    "    \"\"\"\n",
    "    # poisson\n",
    "    _constants = 4.0*np.pi*_Grav_const\n",
    "    if _Grav_const < 2 and _Grav_const > 0.5: print(\"_Grav_const is one\")\n",
    "\n",
    "    # integration stuff\n",
    "\n",
    "    # get the integral\n",
    "    _r, _first_term = _int_function(\n",
    "        _input_array=_r, _function_array=_analytic_rho*_r**2.0)\n",
    "\n",
    "    # get the second_integral\n",
    "    _r, _second_term = _int_function(\n",
    "        _input_array=_r, _function_array=_first_term/(_r**2.0))\n",
    "\n",
    "    _calc = _second_term *_constants\n",
    "\n",
    "    if _normalize == True:\n",
    "\n",
    "        # Normalization Constant\n",
    "        _normalization_constant = max(_calc)# - max(_analytic_phi)\n",
    "\n",
    "#         _calc = _calc * _normalization_constant\n",
    "        _calc = _calc - _normalization_constant\n",
    "\n",
    "    return np.array((_r, _calc))"
   ]
  },
  {
   "cell_type": "markdown",
   "metadata": {},
   "source": [
    "# NFW Profile "
   ]
  },
  {
   "cell_type": "code",
   "execution_count": 389,
   "metadata": {
    "ExecuteTime": {
     "end_time": "2020-05-07T15:25:31.557343Z",
     "start_time": "2020-05-07T15:25:31.545371Z"
    }
   },
   "outputs": [],
   "source": [
    "_N = 100000\n",
    "r_array_2_NFW = np.logspace(-1,5,_N) # 0.1 to 1e5"
   ]
  },
  {
   "cell_type": "code",
   "execution_count": 390,
   "metadata": {
    "ExecuteTime": {
     "end_time": "2020-05-07T15:25:35.887159Z",
     "start_time": "2020-05-07T15:25:32.060221Z"
    }
   },
   "outputs": [
    {
     "name": "stdout",
     "output_type": "stream",
     "text": [
      "_Grav_const is one\n",
      "_Grav_const is one\n",
      "_Grav_const is one\n"
     ]
    }
   ],
   "source": [
    "# Rho of r\n",
    "r_NFW, rho_of_r_analytic_NFW = r_array_2_NFW, rho_dehnen(\n",
    "    _r=r_array_2_NFW, _p0=1, _a=1, _alpha=1, _beta=3)\n",
    "\n",
    "#phi of r analytic\n",
    "\n",
    "phi_of_r_analytic_NFW = NFW_potential(_r=r_array_2_NFW,_p0=1,_a=1,_Grav_constant=1)\n",
    "\n",
    "# phi of r numerical\n",
    "\n",
    "_phi_of_r_x_vals_NFW, phi_of_r_numerical_NFW = phi_solver_of_rho(_r=r_array_2_NFW, _analytic_rho=rho_of_r_analytic_NFW,\n",
    "                                                                 _analytic_phi=phi_of_r_analytic_NFW,\n",
    "                                                                 _int_function=trap_function, _normalize=True)\n",
    "#fix phi of r numerical\n",
    "# adjust = max(phi_of_r_numerical_NFW)-max(phi_of_r_analytic_NFW)\n",
    "\n",
    "# phi_of_r_numerical_NFW = phi_of_r_numerical_NFW - adjust\n",
    "\n",
    "# Rho of R numerical\n",
    "x_val_NFW, numerical_rho_of_r_NFW = rho_of_r_poisson_numerical(\n",
    "    _r=r_array_2_NFW, _phi_func_array=phi_of_r_analytic_NFW, _rho_func_array=rho_of_r_analytic_NFW,\n",
    "    _deriv_func=take_deriv, _normalize=True)\n",
    "\n",
    "# Rho of R numerical from phi_of_r numerical\n",
    "x_val_NFW_NN, numerical_rho_of_r_NFW_NN = rho_of_r_poisson_numerical(\n",
    "    _r=_phi_of_r_x_vals_NFW, _phi_func_array=phi_of_r_numerical_NFW, _rho_func_array=rho_of_r_analytic_NFW,\n",
    "    _deriv_func=take_deriv, _normalize=False)\n",
    "\n",
    "\n",
    "#circular velocity numerical\n",
    "\n",
    "_vcirc_of_r_x_vals_NFW, vcirc_of_r_numerical_NFW = take_deriv(_x= _phi_of_r_x_vals_NFW,\n",
    "                                                              _y=phi_of_r_numerical_NFW)\n",
    "\n",
    "vcirc_of_r_numerical_NFW = np.sqrt(_vcirc_of_r_x_vals_NFW * np.abs(vcirc_of_r_numerical_NFW))\n",
    "\n"
   ]
  },
  {
   "cell_type": "code",
   "execution_count": 391,
   "metadata": {
    "ExecuteTime": {
     "end_time": "2020-05-07T15:25:38.975339Z",
     "start_time": "2020-05-07T15:25:36.220673Z"
    }
   },
   "outputs": [
    {
     "data": {
      "image/png": "[encoded data removed]",
      "text/plain": [
       "<Figure size 1080x432 with 3 Axes>"
      ]
     },
     "metadata": {
      "needs_background": "light"
     },
     "output_type": "display_data"
    }
   ],
   "source": [
    "fig = plt.figure(1)\n",
    "fig.set_figheight(6)\n",
    "fig.set_figwidth(15)\n",
    "\n",
    "# create axis object\n",
    "ax = plt.subplot(131)\n",
    "plt.grid(True)\n",
    "\n",
    "# ploting\n",
    "\n",
    "plt.plot(x_val_NFW, numerical_rho_of_r_NFW,'green',marker=\"*\",markersize=15,markevery=200,\n",
    "         label=r'$\\mathrm{A -> N}$')\n",
    "plt.plot(x_val_NFW_NN, numerical_rho_of_r_NFW_NN, 'tab:orange',marker=\"+\",markersize=15,\n",
    "         markevery=200, label=r'$\\mathrm{N -> N}$')\n",
    "plt.plot(r_NFW, rho_of_r_analytic_NFW, 'navy', label=r'$\\mathrm{A}$')\n",
    "\n",
    "# labeling\n",
    "plt.title(r'$\\mathrm{\\rho(r)\\ vs.\\ r}$', size=30)\n",
    "plt.xlabel(r'$\\mathrm{Log\\ r}$', size=30)\n",
    "plt.ylabel(r'$\\mathrm{ Log\\ \\rho(r) }$', size=30)\n",
    "ax.tick_params(axis='x', which='major', labelsize=16)\n",
    "ax.tick_params(axis='y', which='major', labelsize=16)\n",
    "plt.semilogy()\n",
    "plt.semilogx()\n",
    "plt.legend(fontsize=10)\n",
    "plt.tight_layout()\n",
    "\n",
    "# create axis space\n",
    "ax = plt.subplot(132)\n",
    "plt.grid(True)\n",
    "\n",
    "# ploting\n",
    "##ploting\n",
    "plt.plot(_phi_of_r_x_vals_NFW, phi_of_r_numerical_NFW,marker=\"+\",color=\"orange\",markersize=20,markevery=200,label=r'$\\mathrm{Numerical\\ Log}$')\n",
    "plt.plot(r_NFW, phi_of_r_analytic_NFW,color='navy',linewidth=3,label=r'$\\mathrm{Analytic\\ Log}$')\n",
    "\n",
    "# labeling\n",
    "plt.title(r'$\\mathrm{\\phi(r)\\ vs.\\ r}$', size=30)\n",
    "plt.xlabel(r'$\\mathrm{Log\\ r}$', size=30)\n",
    "plt.ylabel(r'$\\mathrm{\\phi(r)}$', size=30)\n",
    "ax.tick_params(axis='x', which='major', labelsize=16)\n",
    "ax.tick_params(axis='y', which='major', labelsize=16)\n",
    "# plt.semilogy()\n",
    "plt.semilogx()\n",
    "plt.legend(fontsize=15)\n",
    "plt.tight_layout()\n",
    "\n",
    "# create axis space\n",
    "ax = plt.subplot(133)\n",
    "plt.grid(True)\n",
    "\n",
    "# ploting\n",
    "plt.plot(_vcirc_of_r_x_vals_NFW, vcirc_of_r_numerical_NFW, color='tomato',label=r'$\\mathrm{Numerical\\ Log}$')\n",
    "\n",
    "# labeling\n",
    "plt.title(r'$\\mathrm{Log\\ V_{circ}\\ vs.\\ r}$', size=30)\n",
    "plt.xlabel(r'$\\mathrm{Log\\ r}$', size=30)\n",
    "plt.ylabel(r'$\\mathrm{V_{circ}}$', size=30)\n",
    "ax.tick_params(axis='x', which='major', labelsize=16)\n",
    "ax.tick_params(axis='y', which='major', labelsize=16)\n",
    "plt.semilogx()\n",
    "plt.semilogy()\n",
    "plt.legend(fontsize=15)\n",
    "plt.tight_layout()"
   ]
  },
  {
   "cell_type": "markdown",
   "metadata": {},
   "source": [
    "# Realistic Galaxy Parameters "
   ]
  },
  {
   "cell_type": "code",
   "execution_count": 392,
   "metadata": {
    "ExecuteTime": {
     "end_time": "2020-05-07T15:25:39.336569Z",
     "start_time": "2020-05-07T15:25:39.315089Z"
    }
   },
   "outputs": [],
   "source": [
    "# radius dist\n",
    "inputs_RC = (np.logspace(18,26,100)) # cm \n",
    "\n",
    "#DM Halo\n",
    "_p0_DM = 8.54e-26 # g cm^-3\n",
    "_a_DM = 1.23e23  # cm\n",
    "#stars\n",
    "_p0_STARS = 7.95e-24  # g cm^-3\n",
    "_a_STARS = 1.54e22  # cm"
   ]
  },
  {
   "cell_type": "markdown",
   "metadata": {},
   "source": [
    "## Define Density Distributions "
   ]
  },
  {
   "cell_type": "code",
   "execution_count": 393,
   "metadata": {
    "ExecuteTime": {
     "end_time": "2020-05-07T15:25:39.713779Z",
     "start_time": "2020-05-07T15:25:39.706862Z"
    }
   },
   "outputs": [],
   "source": [
    "# DM Halo density distribution\n",
    "DM_rho_dist_NFW = rho_dehnen(_r=inputs_RC,_p0=_p0_DM,_a=_a_DM,_alpha=1,_beta=3)\n",
    "\n",
    "# Stars Density distribution\n",
    "STARS_rho_dist_HERN = rho_dehnen(_r=inputs_RC,_p0=_p0_STARS,_a=_a_STARS,_alpha=1,_beta=4)\n",
    "\n",
    "# STARS + DM Density distribution\n",
    "TOT_rho_dist = DM_rho_dist_NFW + STARS_rho_dist_HERN\n",
    "\n"
   ]
  },
  {
   "cell_type": "markdown",
   "metadata": {},
   "source": [
    "## Phi, rho, Virc Variables for plotting "
   ]
  },
  {
   "cell_type": "code",
   "execution_count": 394,
   "metadata": {
    "ExecuteTime": {
     "end_time": "2020-05-07T15:25:40.030657Z",
     "start_time": "2020-05-07T15:25:40.008071Z"
    }
   },
   "outputs": [],
   "source": [
    "# phi of r analytic\n",
    "_Grav_constant_cgs = 6.67e-8 # cgs\n",
    "\n",
    "# DM\n",
    "phi_of_r_analytic_DM = NFW_potential(_r=inputs_RC*cm_to_pc,_p0=_p0_DM*cgs_rho_to_solar_pc_rho,_a=_a_DM*cm_to_pc,_Grav_constant=G_solar_mass)\n",
    "\n",
    "# STARS\n",
    "phi_of_r_analytic_STARS = HERN_potential(_r=inputs_RC,_p0=_p0_STARS,_a=_a_STARS,_Grav_constant=_Grav_constant_cgs)\n",
    "\n",
    "#PHI of R Numerical\n",
    "#DM \n",
    "_phi_of_r_x_vals_DM, phi_of_r_numerical_DM = phi_solver_of_rho(_r=inputs_RC*cm_to_pc, _analytic_rho=DM_rho_dist_NFW,\n",
    "                                                                 _analytic_phi=phi_of_r_analytic_DM,\n",
    "                                                                 _int_function=trap_function, _Grav_const=_Grav_constant_cgs, _normalize=True)\n",
    "# STARS\n",
    "#DM \n",
    "_phi_of_r_x_vals_STARS, phi_of_r_numerical_STARS = phi_solver_of_rho(_r=inputs_RC, _analytic_rho=STARS_rho_dist_HERN,\n",
    "                                                                 _analytic_phi=phi_of_r_analytic_STARS,\n",
    "                                                                _int_function=trap_function, _Grav_const=_Grav_constant_cgs, _normalize=True)\n",
    "\n",
    "\n",
    "\n",
    "#circular velocity ANALYTIC\n",
    "# DM\n",
    "_vcirc_of_r_x_vals_DM_A, _phi_of_r_analytic_dir_DM = take_deriv(_x= inputs_RC,\n",
    "                                                              _y=phi_of_r_analytic_DM)\n",
    "\n",
    "vcirc_of_r_analytic_DM = np.sqrt(_vcirc_of_r_x_vals_DM_A * np.abs(_phi_of_r_analytic_dir_DM))\n",
    "\n",
    "# STARS\n",
    "_vcirc_of_r_x_vals_STARS_A, _phi_of_r_analytic_dir_STARS = take_deriv(_x= inputs_RC,\n",
    "                                                              _y=phi_of_r_analytic_STARS)\n",
    "\n",
    "vcirc_of_r_analytic_STARS = np.sqrt(_vcirc_of_r_x_vals_STARS_A * np.abs(_phi_of_r_analytic_dir_STARS))\n",
    "\n",
    "# ANALYTIC TOTAL\n",
    "\n",
    "_vcirc_of_r_x_vals_TOT_A, _phi_of_r_analytic_dir_TOT = take_deriv(_x= inputs_RC,\n",
    "                                                              _y=phi_of_r_analytic_DM+\n",
    "                                                                  phi_of_r_analytic_STARS)\n",
    "\n",
    "vcirc_of_r_analytic_TOT = np.sqrt(_vcirc_of_r_x_vals_DM_A * np.abs(_phi_of_r_analytic_dir_TOT))\n",
    "\n",
    "\n",
    "\n",
    "\n",
    "\n",
    "#circular velocity numerical\n",
    "# DM\n",
    "_vcirc_of_r_x_vals_DM, vcirc_of_r_numerical_DM = take_deriv(_x= _phi_of_r_x_vals_DM,\n",
    "                                                              _y=phi_of_r_numerical_DM)\n",
    "\n",
    "vcirc_of_r_numerical_DM = np.sqrt(_vcirc_of_r_x_vals_DM * np.abs(vcirc_of_r_numerical_DM))\n",
    "\n",
    "# STARS\n",
    "_vcirc_of_r_x_vals_STARS, vcirc_of_r_numerical_STARS = take_deriv(_x= _phi_of_r_x_vals_STARS,\n",
    "                                                              _y=phi_of_r_numerical_STARS)\n",
    "\n",
    "vcirc_of_r_numerical_STARS = np.sqrt(_vcirc_of_r_x_vals_STARS * np.abs(vcirc_of_r_numerical_STARS))\n",
    "\n",
    "# Numerical TOTAL\n",
    "_vcirc_of_r_x_vals_TOT_N, _phi_of_r_numerical_dir_TOT = take_deriv(_x= _phi_of_r_x_vals_STARS,\n",
    "                                                              _y=phi_of_r_numerical_DM+\n",
    "                                                                  phi_of_r_numerical_STARS)\n",
    "\n",
    "vcirc_of_r_numerical_TOT = np.sqrt(_vcirc_of_r_x_vals_TOT_N * np.abs(_phi_of_r_numerical_dir_TOT))\n",
    "\n",
    "\n",
    "\n"
   ]
  },
  {
   "cell_type": "markdown",
   "metadata": {},
   "source": [
    "## Plot DM, Halo; rho, Psi, and Vcirc\n"
   ]
  },
  {
   "cell_type": "code",
   "execution_count": 395,
   "metadata": {
    "ExecuteTime": {
     "end_time": "2020-05-07T15:25:42.518231Z",
     "start_time": "2020-05-07T15:25:40.302404Z"
    }
   },
   "outputs": [
    {
     "data": {
      "image/png": "[encoded data removed]",
      "text/plain": [
       "<Figure size 1440x720 with 3 Axes>"
      ]
     },
     "metadata": {
      "needs_background": "light"
     },
     "output_type": "display_data"
    }
   ],
   "source": [
    "fig = plt.figure(2)\n",
    "fig.set_figheight(10)\n",
    "fig.set_figwidth(20)\n",
    "\n",
    "# create axis object\n",
    "ax = plt.subplot(131)\n",
    "plt.grid(True)\n",
    "\n",
    "# ploting\n",
    "\n",
    "plt.plot(inputs_RC*cm_to_pc, DM_rho_dist_NFW*cgs_rho_to_solar_pc_rho,'Navy',label=r'$\\mathrm{DM}$')\n",
    "# plt.plot(inputs_RC*cm_to_pc, STARS_rho_dist_HERN*cgs_rho_to_solar_pc_rho, 'tab:orange',label=r'$\\mathrm{Stars}$')\n",
    "# plt.plot(inputs_RC*cm_to_pc, TOT_rho_dist*cgs_rho_to_solar_pc_rho, 'tab:green',marker=\"*\",label=r'$\\mathrm{DM\\ +\\ STARS}$')\n",
    "\n",
    "# labeling\n",
    "plt.title(r'$\\mathrm{\\rho(r)\\ vs.\\ r}$', size=30)\n",
    "plt.xlabel(r'$\\mathrm{Log\\ r\\ [pc]}$', size=30)\n",
    "plt.ylabel(r'$\\mathrm{ Log\\ \\rho(r)\\ [M_{\\odot}\\ pc^{-3}] }$', size=30)\n",
    "ax.tick_params(axis='x', which='major', labelsize=25)\n",
    "ax.tick_params(axis='y', which='major', labelsize=25)\n",
    "plt.semilogy()\n",
    "plt.semilogx()\n",
    "plt.legend(fontsize=20)\n",
    "plt.tight_layout()\n",
    "\n",
    "# create axis space\n",
    "ax = plt.subplot(132)\n",
    "plt.grid(True)\n",
    "\n",
    "# ploting\n",
    "# plt.plot(_phi_of_r_x_vals_DM, -phi_of_r_numerical_DM,color=\"orange\",marker=\"+\",markevery=50,markersize=20,label=r'$\\mathrm{DM\\ N}$')\n",
    "# plt.plot(_phi_of_r_x_vals_STARS*cm_to_pc, -phi_of_r_numerical_STARS,color='navy',marker=\"+\",markevery=50,markersize=20,linewidth=3,label=r'$\\mathrm{STARS\\ N}$')\n",
    "# plt.plot(_phi_of_r_x_vals_STARS*cm_to_pc, -phi_of_r_numerical_STARS + -phi_of_r_numerical_DM,color='maroon',marker=\"+\",markevery=50,markersize=20,linewidth=3,label=r'$\\mathrm{STARS\\ +\\ DM\\ N}$')\n",
    "\n",
    "plt.plot(inputs_RC*cm_to_pc,-phi_of_r_analytic_DM+max(phi_of_r_analytic_DM),color='purple',linewidth=3,label=r'$\\mathrm{DM\\ A}$')\n",
    "\n",
    "# plt.plot(inputs_RC*cm_to_pc,-phi_of_r_analytic_STARS,color='green',linewidth=3,label=r'$\\mathrm{STARS\\ A}$')\n",
    "# plt.plot(inputs_RC*cm_to_pc,-phi_of_r_analytic_STARS+-phi_of_r_analytic_DM,color='cyan',linewidth=3,label=r'$\\mathrm{STARS\\ +\\ DM\\ A}$')\n",
    "# labeling\n",
    "plt.title(r'$\\mathrm{Log\\ -\\phi(r)\\ vs.\\ r\\ [Solar\\ Units]}$', size=30)\n",
    "plt.xlabel(r'$\\mathrm{Log\\ r\\ [pc]}$', size=30)\n",
    "plt.ylabel(r'$\\mathrm{Log\\ (-\\phi(r))}$', size=30)\n",
    "ax.tick_params(axis='x', which='major', labelsize=25)\n",
    "ax.tick_params(axis='y', which='major', labelsize=25)\n",
    "plt.semilogy()\n",
    "plt.semilogx()\n",
    "plt.legend(fontsize=20)\n",
    "plt.tight_layout()\n",
    "\n",
    "\n",
    "# create axis space\n",
    "ax = plt.subplot(133)\n",
    "\n",
    "plt.grid(True)\n",
    "\n",
    "# ploting\n",
    "\n",
    "plt.plot(_vcirc_of_r_x_vals_DM_A*cm_to_pc, vcirc_of_r_analytic_DM, color='cyan',label=r'$\\mathrm{DM\\ A\\ Phi}$')\n",
    "#  plt.plot(_vcirc_of_r_x_vals_STARS_A*cm_to_pc, vcirc_of_r_analytic_STARS*cm_to_km, color='tab:blue',label=r'$\\mathrm{STARS\\ A\\ Phi}$')\n",
    "# plt.plot(_vcirc_of_r_x_vals_TOT_A*cm_to_pc, vcirc_of_r_analytic_TOT*cm_to_km, color='tab:red',label=r'$\\mathrm{DM\\ +\\ Stars\\ A\\ Phi}$')\n",
    "# plt.plot(_vcirc_of_r_x_vals_DM*cm_to_pc, vcirc_of_r_numerical_DM*cm_to_km, color='Navy',marker=\"+\",markevery=50,markersize=20,label=r'$\\mathrm{DM\\ N\\ Phi}$')\n",
    "# plt.plot(_vcirc_of_r_x_vals_STARS*cm_to_pc, vcirc_of_r_numerical_STARS*cm_to_km, color='tab:orange',marker=\"+\",markevery=50,markersize=20,label=r'$\\mathrm{STARS\\ N\\Phi }$')\n",
    "# plt.plot(_vcirc_of_r_x_vals_TOT_N*cm_to_pc, vcirc_of_r_numerical_TOT*cm_to_km, color='tab:green',marker=\"+\",markevery=50,markersize=20,label=r'$\\mathrm{DM\\ +\\ Stars\\ N\\ \\Phi}$')\n",
    "\n",
    "# labeling\n",
    "plt.title(r'$\\mathrm{V_{circ}\\ vs.\\ r}$', size=30)\n",
    "plt.xlabel(r'$\\mathrm{Log\\ r\\ [pc]}$', size=30)\n",
    "plt.ylabel(r'$\\mathrm{V_{circ}\\ [pc/Myr]}$', size=30)\n",
    "ax.tick_params(axis='x', which='major', labelsize=25)\n",
    "ax.tick_params(axis='y', which='major', labelsize=25)\n",
    "\n",
    "plt.semilogx()\n",
    "# plt.semilogy()\n",
    "plt.legend(fontsize=20)\n",
    "\n",
    "plt.tight_layout()"
   ]
  },
  {
   "cell_type": "markdown",
   "metadata": {},
   "source": [
    "# f (epsilon) function "
   ]
  },
  {
   "cell_type": "code",
   "execution_count": 672,
   "metadata": {
    "ExecuteTime": {
     "end_time": "2020-05-08T20:22:23.517326Z",
     "start_time": "2020-05-08T20:22:23.486141Z"
    },
    "code_folding": []
   },
   "outputs": [],
   "source": [
    "def do_everything(_epsilon_array,_rho_array, _PSI_array):\n",
    "\n",
    "#         test_dict[value] = value\n",
    "\n",
    "    # construct integrand array components\n",
    "    _,_d_rho_d_PSI  = take_deriv(_x=_PSI_array,_y=_rho_array)\n",
    "    _PSI_bin_WIDTH  = np.diff(_PSI_array)     # bin \n",
    "    \n",
    "    # Check that values arent too close and re increasing\n",
    "    for aa in _d_rho_d_PSI:\n",
    "        if aa < 1e-16:\n",
    "            raise ValueError(\"Your drho/dPSI values are not changing\")\n",
    "            \n",
    "    for aa,value in enumerate(np.diff(_d_rho_d_PSI)):\n",
    "        if value < 0:\n",
    "            raise ValueError(\"Your drho/dPSI values are not increasing monotonically\")\n",
    "        \n",
    "    for bb in _PSI_bin_WIDTH:\n",
    "        if bb < 1e-16:\n",
    "            raise ValueError(\"Your _PSI_bin_WIDTH values are not changing\")\n",
    "            \n",
    "    for bb,value in enumerate(_PSI_bin_WIDTH):\n",
    "        if value < 0:\n",
    "            print (_PSI_bin_WIDTH)\n",
    "            print (\"problem index at\",bb)\n",
    "            raise ValueError(\"Your _PSI_bin_WIDTH values are not increasing monotonically\")\n",
    "\n",
    "    # calc non square root terms for integrand       \n",
    "    _non_root_int_term_ = _d_rho_d_PSI * _PSI_bin_WIDTH\n",
    "    \n",
    "    # Calc psi bin centers\n",
    "    _PSI_bin_CENTER = ((_PSI_array[:-1] + _PSI_array[1:]) / 2.0) #take midpoints\n",
    "\n",
    "    \n",
    "    # store values before diff wrt to EPS\n",
    "    _before_int_bin_values = {}\n",
    "\n",
    "    \n",
    "    for ii in range(0,_epsilon_array.size):\n",
    "        \n",
    "\n",
    "\n",
    "        # construct integrand term; effective where PSI < EPS[ii]\n",
    "        _calc = np.sqrt(_epsilon_array[ii]-_PSI_bin_CENTER)\n",
    "        _calc_bools = ~np.isnan(_calc)\n",
    "        _calc = _calc[_calc_bools]\n",
    "        _calc = _calc[:np.count_nonzero(_calc)]\n",
    "        \n",
    "        # integrand term\n",
    "        _integrand_term = _calc * _non_root_int_term_[:_calc.size]\n",
    "        \n",
    "        #save them\n",
    "        _before_int_bin_values[ii] = _integrand_term\n",
    "        \n",
    "        for jj,value in enumerate(np.diff(_integrand_term)):\n",
    "            if value < 0: \n",
    "                if jj == _integrand_term.size - 2:\n",
    "                    _integrand_term = _integrand_term[:jj+1]\n",
    "#                     if jj =< _integrand_term.size-1\n",
    "                elif jj == _integrand_term.size - 3:\n",
    "#                     print (\"here\")\n",
    "                    _integrand_term = _integrand_term[:jj+1]\n",
    "#                     print (_integrand_term)\n",
    "#                     stop\n",
    "#                     if jj =< _integrand_term.size-1\n",
    "                elif jj < _integrand_term.size - 3:\n",
    "                    print (\"begin error message in first for loop\")\n",
    "                    print (\"int array with error\",_integrand_term)\n",
    "                    print (\"sqrt term for this row\",_calc)\n",
    "                    print (\"NON sqrt term for this row\",_non_root_int_term_[:_calc.size])\n",
    "                    print (\"decreases at this index in the row\", jj)\n",
    "                    print ('happens at this row of the int array',ii)\n",
    "                    raise ValueError(\"your integrand array is not increasing monotonically\") \n",
    "        \n",
    "        for jj,value in enumerate(np.diff(_integrand_term)):\n",
    "            if value < 0 and jj <= _epsilon_array.size - 5:\n",
    "                _integrand_term= _integrand_term[:jj+2]\n",
    "                \n",
    "        \n",
    "    ### iterate and integrate\n",
    "    \n",
    "    ## bin for integrated values\n",
    "    _after_int_bin_values = np.zeros(_epsilon_array.size)\n",
    "    \n",
    "    for keys in _before_int_bin_values.keys():\n",
    "        \n",
    "        _integrand_term_sec_loop      = _before_int_bin_values[keys]\n",
    "\n",
    "        for ff in range(0,_PSI_array.size-3):\n",
    "            \n",
    "            # define PSI limits for integration\n",
    "            _PSI_limits = _PSI_array[:ff+3]\n",
    "            _PSI_limits = _PSI_limits[-1]\n",
    "            \n",
    "            if _PSI_limits == _PSI_array[-1]:\n",
    "                break\n",
    "\n",
    "            #define integrand terms and bin centers for integrating\n",
    "            _bin_centers_iterate = _PSI_bin_CENTER[_PSI_bin_CENTER < _PSI_limits]\n",
    "            _integrand_term_sec_loop      = _integrand_term_sec_loop[:_bin_centers_iterate.size]\n",
    "            _bin_centers_iterate = _bin_centers_iterate[:_integrand_term_sec_loop.size]\n",
    "\n",
    "            ## debug check\n",
    "            for jj,value in enumerate(np.diff(_integrand_term_sec_loop)):\n",
    "                if value < 0:\n",
    "                    if jj == _integrand_term_sec_loop.size - 2:\n",
    "                        _integrand_term_sec_loop = _integrand_term_sec_loop[:jj+1]\n",
    "#                     if jj =< _integrand_term.size-1\n",
    "#                     if jj =< _integrand_term.size-1\n",
    "                    elif jj == _integrand_term.size - 3:\n",
    "                        _integrand_term_sec_loop = _integrand_term_sec_loop[:jj+1]\n",
    "        \n",
    "                    elif jj < _integrand_term_sec_loop.size - 3:\n",
    "                        print (\"begin error message in SECOND for loop\")\n",
    "                        print (\"int array with error\",_integrand_term_sec_loop)\n",
    "                        print (\"bin centers for this row\",_bin_centers_iterate)\n",
    "                        print (\"sqrt term for this row\",_calc)\n",
    "                        print (\"NON sqrt term for this row\",_non_root_int_term_[:_calc.size])\n",
    "                        print (\"decreases at this index in the row\", jj)\n",
    "                        print ('happens at this row of the int array',key)\n",
    "                        raise ValueError(\"your integrand array is not increasing monotonically\")\n",
    "            \n",
    "            for jj,value in enumerate(_integrand_term_sec_loop):\n",
    "                if value == 0:\n",
    "                    print (\"begin error message in SECOND for loop\")\n",
    "                    print (\"int array with error\",_integrand_term_sec_loop)\n",
    "                    print (\"bin centers for this row\",_bin_centers_iterate)\n",
    "                    print (\"sqrt term for this row\",_calc)\n",
    "                    print (\"NON sqrt term for this row\",_non_root_int_term_[:_calc.size])\n",
    "                    print (\"decreases at this index in the row\", jj)\n",
    "                    print ('happens at this row of the int array',key)\n",
    "                    raise ValueError(\"you have a 0 in your integrand array \")\n",
    "\n",
    "            if np.isnan(_integrand_term_sec_loop.sum()) > 0:\n",
    "                print (np.count_nonzero(_integrand_term_sec_loop))\n",
    "                print (_integrand_term)\n",
    "                print (\"this many nans\",np.isnan(_integrand_term_sec_loop).sum())\n",
    "                raise ValueError (\"you have a nan in the integrand\")\n",
    "\n",
    "            # check array sizes\n",
    "#             if _integrand_term_sec_loop.size != _bin_centers_iterate.size and key >= _epsilon_array.size-3:\n",
    "#                 print (\"here\")\n",
    "#                 _integrand_term_sec_loop = np.zeros(1)\n",
    "#                 _bin_centers_iterate = np.zeros(1)\n",
    "                \n",
    "            if _integrand_term_sec_loop.size != _bin_centers_iterate.size and key < _epsilon_array.size-3:\n",
    "                print (\"begin error message\")\n",
    "                print ()\n",
    "                print (key,\"th value\")\n",
    "                print ('int term',_integrand_term_sec_loop)\n",
    "                print (\"bin center term\",_bin_centers_iterate)\n",
    "                print ('int term shape',_integrand_term_sec_loop.size,\"bin center shape\",_bin_centers_iterate.size)\n",
    "                raise ValueError(\"Your bin centers or integrand array are fucked up\")\n",
    "\n",
    "        # integrate\n",
    "\n",
    "        _, _num_integral= trap_function(_input_array=_bin_centers_iterate,\n",
    "                                 _function_array=_integrand_term_sec_loop,\n",
    "                                 _cumulative_anti=False)\n",
    "        \n",
    "\n",
    "        #save integrated values\n",
    "        _after_int_bin_values[keys] = _num_integral\n",
    "\n",
    "    ### take derivative\n",
    "    \n",
    "#     print (np.diff(_after_int_bin_values),\"with size\",np.diff(_after_int_bin_values).size)\n",
    "#     print (np.diff(_epsilon_array),\"with size\",np.diff(_epsilon_array).size)\n",
    "#     print (np.diff(_after_int_bin_values)/np.diff(_epsilon_array))\n",
    "    _bin_centers_final_f_e,_final_f_e = take_deriv(_x=_epsilon_array,_y=_after_int_bin_values)\n",
    "    \n",
    "    \n",
    "        \n",
    "\n",
    "    return np.array((_bin_centers_final_f_e,_final_f_e, _PSI_bin_CENTER))\n",
    "  \n",
    "\n",
    "\n",
    "# test_r_edges,test_int_array = integrate_derived_integrand_array(_bin_centers=_PSI_bin_centers,\n",
    "#                                                               _integrand_array=_integrand_array_test)\n",
    "\n"
   ]
  },
  {
   "cell_type": "markdown",
   "metadata": {},
   "source": [
    "## Testing "
   ]
  },
  {
   "cell_type": "code",
   "execution_count": 690,
   "metadata": {
    "ExecuteTime": {
     "end_time": "2020-05-08T20:40:53.952685Z",
     "start_time": "2020-05-08T20:40:53.943319Z"
    }
   },
   "outputs": [],
   "source": [
    "# cgs\n",
    "def f_E_abel(_r, _epsilon_array,_PSI_values=None):\n",
    "    \n",
    "    # define constants\n",
    "    _constants = 1.0 / ((np.pi**2.0) * np.sqrt(8.0))\n",
    "    \n",
    "    \n",
    "    if _PSI_values == None:\n",
    "    # define DM and stars potential distributions\n",
    "        _DM_potential_f = NFW_potential(\n",
    "            _r=_r*cm_to_pc, _p0=_p0_DM*cgs_rho_to_solar_pc_rho, _a=_a_DM*cm_to_pc, _Grav_constant=G_solar_mass)\n",
    "    #     _STARS_potential = HERN_potential(\n",
    "    #         _r=_r, _p0=_p0_STARS, _a=_a_STARS, _Grav_constant=_Grav_constant_cgs)\n",
    "\n",
    "        # sum potential distributions\n",
    "        _TOT_Potential = _DM_potential_f# + _STARS_potential\n",
    "        _phi_constant = max(_TOT_Potential)\n",
    "    #     print (\"the constant is \", _phi_constant)\n",
    "        # define PSI\n",
    "        _TOT_PSI = -_TOT_Potential + _phi_constant\n",
    "        _TOT_PSI = _TOT_PSI[::-1]\n",
    "\n",
    "\n",
    "    else:\n",
    "        _TOT_PSI = _epsilon_array\n",
    "        \n",
    "    \n",
    "    \n",
    "    \n",
    "    # define phi_0 constant\n",
    "\n",
    "    \n",
    "    # Define DM and Star density distributions\n",
    "    _DM_rho_dist = rho_dehnen(\n",
    "        _r=_r*cm_to_pc, _p0=_p0_DM*cgs_rho_to_solar_pc_rho, _a=_a_DM*cm_to_pc, _alpha=1, _beta=3)\n",
    "#     _STARS_rho_dist = rho_dehnen(\n",
    "#         _r=_r, _p0=_p0_STARS, _a=_a_STARS, _alpha=1, _beta=4)\n",
    "    \n",
    "    # sum density distributions\n",
    "    _TOT_density = _DM_rho_dist #+ _STARS_rho_dist\n",
    "    _TOT_density = _TOT_density[::-1]\n",
    "    \n",
    "\n",
    "#     # take derivative with respect to epsilon\n",
    "    _bin_centers, _result,_PSI_bin_centers = do_everything(_epsilon_array=_epsilon_array,\n",
    "                                                           _rho_array=_TOT_density,\n",
    "                                                           _PSI_array=_TOT_PSI)\n",
    "    \n",
    "    \n",
    "    ## Check for monotonic increase\n",
    "#     for ii, value in enumerate(np.diff(_result)):\n",
    "#         if value < 0:\n",
    "#             print (_result)\n",
    "#             print (ii)\n",
    "#             raise ValueError(\"you have a negative in your AFTER you take a derivative of the integrated result\")\n",
    "    \n",
    "    return np.array((_bin_centers,_constants*_result,_TOT_PSI,_PSI_bin_centers))\n",
    "\n",
    "\n",
    "\n",
    "                \n",
    "                 "
   ]
  },
  {
   "cell_type": "code",
   "execution_count": null,
   "metadata": {},
   "outputs": [],
   "source": []
  },
  {
   "cell_type": "code",
   "execution_count": 703,
   "metadata": {
    "ExecuteTime": {
     "end_time": "2020-05-08T20:45:01.886201Z",
     "start_time": "2020-05-08T20:45:01.566118Z"
    },
    "scrolled": false
   },
   "outputs": [
    {
     "name": "stderr",
     "output_type": "stream",
     "text": [
      "/Users/michael/anaconda3/lib/python3.7/site-packages/ipykernel_launcher.py:44: RuntimeWarning: invalid value encountered in sqrt\n"
     ]
    }
   ],
   "source": [
    "inputs_R = (np.logspace(17,26,100))\n",
    "# epsilons\n",
    "# inputs_epsilon = (np.linspace(22,26,40))\n",
    "inputs_epsilon = (np.logspace(3,5,100))\n",
    "\n",
    "#\n",
    "# _,int_array_test = f_E_abel(_r=inputs_R, _epsilon_array=inputs_epsilon)\n",
    "f_e_bin_edges,f_e_array,PSI_TOT_array, PSI_bin_centers = f_E_abel(_r=inputs_R, _epsilon_array=inputs_epsilon,_PSI_values=None)\n",
    "\n",
    "# f_e_bin_edges2,f_e_array2,PSI_TOT_array2, PSI_bin_centers2 = f_E_abel(_r=inputs_R, _epsilon_array=inputs_epsilon,_PSI_values=True)\n",
    "# _test_array = f_E_abel(_r=inputs_R, _epsilon_array=inputs_epsilon)\n",
    "\n",
    "\n",
    "\n",
    "\n",
    "\n"
   ]
  },
  {
   "cell_type": "code",
   "execution_count": null,
   "metadata": {},
   "outputs": [],
   "source": []
  },
  {
   "cell_type": "code",
   "execution_count": 702,
   "metadata": {
    "ExecuteTime": {
     "end_time": "2020-05-08T20:44:51.111153Z",
     "start_time": "2020-05-08T20:44:49.599727Z"
    },
    "scrolled": false
   },
   "outputs": [
    {
     "data": {
      "image/png": "[encoded data removed]",
      "text/plain": [
       "<Figure size 864x432 with 2 Axes>"
      ]
     },
     "metadata": {
      "needs_background": "light"
     },
     "output_type": "display_data"
    }
   ],
   "source": [
    "fig = plt.figure(5)\n",
    "fig.set_figheight(6)\n",
    "fig.set_figwidth(12)\n",
    "\n",
    "# create axis object\n",
    "ax = plt.subplot(121)\n",
    "plt.grid(True)\n",
    "\n",
    "# ploting\n",
    "\n",
    "plt.plot(f_e_bin_edges,f_e_array,'Navy',label=r'$\\mathrm{f(\\epsilon)}$')\n",
    "# plt.axvline(f_e_bin_edges[61])\n",
    "# labeling\n",
    "plt.title(r'$\\mathrm{DM\\ Only}$', size=30)\n",
    "plt.xlabel(r'$\\mathrm{\\epsilon}$', size=30)\n",
    "plt.ylabel(r'$\\mathrm{f(\\epsilon)}$', size=30)\n",
    "ax.tick_params(axis='x', which='major', labelsize=25)\n",
    "ax.tick_params(axis='y', which='major', labelsize=25)\n",
    "# plt.xlim(-1e22,1e23)\n",
    "plt.semilogy()\n",
    "plt.semilogx()\n",
    "plt.legend(fontsize=20)\n",
    "plt.tight_layout()\n",
    "\n",
    "ax = plt.subplot(122)\n",
    "plt.grid(True)\n",
    "\n",
    "plt.plot(inputs_R[::-1]*cm_to_pc,PSI_TOT_array,'tab:red')\n",
    "ax = plt.gca()\n",
    "ax.invert_xaxis()\n",
    "\n",
    "# plt.axvline(f_e_bin_edges[61])\n",
    "# labeling\n",
    "plt.title(r'$\\mathrm{DM\\ Only\\ solar\\ G\\ units}$', size=30)\n",
    "plt.xlabel(r'$\\mathrm{r\\ [pc]}$', size=30)\n",
    "plt.ylabel(r'$\\mathrm{\\Psi(r)}$', size=30)\n",
    "ax.tick_params(axis='x', which='major', labelsize=25)\n",
    "ax.tick_params(axis='y', which='major', labelsize=25)\n",
    "# plt.xlim(-1e22,1e23)\n",
    "plt.semilogy()\n",
    "plt.semilogx()\n",
    "# plt.legend(fontsize=20)\n",
    "plt.tight_layout()\n",
    "\n",
    "\n"
   ]
  },
  {
   "cell_type": "code",
   "execution_count": 147,
   "metadata": {
    "ExecuteTime": {
     "end_time": "2020-05-05T21:45:21.614532Z",
     "start_time": "2020-05-05T21:45:21.610174Z"
    }
   },
   "outputs": [],
   "source": [
    "# plt.hist(PSI_bin_centers)\n",
    "# # plt.xlabel(r'$\\mathrm{\\Psi\\ Values}$', size=30)\n",
    "# plt.ylabel(r'$\\mathrm{Counts}$', size=30)"
   ]
  },
  {
   "cell_type": "code",
   "execution_count": 683,
   "metadata": {
    "ExecuteTime": {
     "end_time": "2020-05-08T20:32:08.505411Z",
     "start_time": "2020-05-08T20:32:08.488252Z"
    }
   },
   "outputs": [],
   "source": [
    "\n",
    "def integrand_array_func_V2(_PSI_array,_f_eps_array,_f_eps_bin_edges_array):\n",
    "    _int_bin = np.zeros((_PSI_array.size,_f_eps_array.size-1))\n",
    "    for ii in range(0,_PSI_array.size):\n",
    "        for jj in range(0,_f_eps_array.size-1): \n",
    "\n",
    "#             print (_f_eps_array[jj:jj+2])\n",
    "            f_eps_widths        = np.diff(_f_eps_array[jj:jj+2])\n",
    "#             print (f_eps_widths)\n",
    "            if f_eps_widths.size < 1 and jj != _f_eps_array.size-1:\n",
    "                print (jj)\n",
    "                raise ValueError(\"bin width is fucked up\")\n",
    "            \n",
    "            # calc d_epslion\n",
    "            \n",
    "            d_new_eps           = np.diff(_f_eps_bin_edges_array[jj:jj+2])\n",
    "#             print (d_new_eps)\n",
    "\n",
    "\n",
    "            \n",
    "            # Calc Bin Centers for Epsilon\n",
    "            _eps_bin_centers    = 0.5 * np.sum(_f_eps_bin_edges_array[jj:jj+2])\n",
    "            if _PSI_array[ii] < _eps_bin_centers:\n",
    "                break\n",
    "    \n",
    "            # Calc sqrt term\n",
    "            _sqrt_term          = np.sqrt(2 * (_PSI_array[ii] -_eps_bin_centers))\n",
    "            \n",
    "       \n",
    "            _calc = f_eps_widths*_sqrt_term * _eps_bin_centers\n",
    "            if _calc < 0 or _calc == np.nan:\n",
    "                raise ValueError(\"your int array is fucked up\")\n",
    "            \n",
    "            _int_bin[ii,jj] = _calc\n",
    "    return _int_bin\n",
    "\n",
    "def integrate_integrand_array(_bin_centers,_integrand_array,_epsilon_array):\n",
    "    _test_final_bin  = np.zeros(_integrand_array.shape[0])\n",
    "    _right_edges_bin = np.zeros(_integrand_array.shape[0])\n",
    "#     print (_integrand_array.shape[0])\n",
    "#     stop\n",
    "    for aa in range(0,_integrand_array.shape[0]):\n",
    "        \n",
    "        \n",
    "        _EPS_limits = _epsilon_array[:aa+3]\n",
    "        _EPS_limits = _EPS_limits[-1]\n",
    "        _bin_centers_iterate = _bin_centers[_bin_centers < _EPS_limits]\n",
    "        \n",
    "        _row = _integrand_array[aa][:_bin_centers_iterate.size]\n",
    "        _bin_centers_iterate = _bin_centers_iterate[:_row.size]\n",
    "\n",
    "        \n",
    "        if _row.size != _bin_centers_iterate.size:\n",
    "            print (aa,\"th -1 index\")\n",
    "            print (\"int row\", _row, \"with size,\",_row.size)\n",
    "            print (\"bin centers\", _bin_centers_iterate, \"with size,\",_bin_centers_iterate.size)\n",
    "            print (aa,\"th index\")\n",
    "            print (\"int row\", _row, \"with size,\",_row.size)\n",
    "            print (\"bin centers\", _bin_centers_iterate, \"with size,\",_bin_centers_iterate.size)\n",
    "            raise ValueError(\"integration error, unequal sizes for arrays\")\n",
    "\n",
    " \n",
    "        _bin_edges, _num_integral= trap_function(_input_array=_bin_centers_iterate,\n",
    "                                                 _function_array=_row,\n",
    "                                                 _cumulative_anti=False)\n",
    "        \n",
    "        _test_final_bin[aa] = _num_integral\n",
    "        _right_edges_bin= _bin_edges\n",
    "    \n",
    "    return np.array((_right_edges_bin,_test_final_bin))"
   ]
  },
  {
   "cell_type": "code",
   "execution_count": 684,
   "metadata": {
    "ExecuteTime": {
     "end_time": "2020-05-08T20:32:09.138579Z",
     "start_time": "2020-05-08T20:32:09.113418Z"
    },
    "scrolled": false
   },
   "outputs": [
    {
     "ename": "ValueError",
     "evalue": "your int array is fucked up",
     "output_type": "error",
     "traceback": [
      "\u001b[0;31m---------------------------------------------------------------------------\u001b[0m",
      "\u001b[0;31mValueError\u001b[0m                                Traceback (most recent call last)",
      "\u001b[0;32m<ipython-input-684-b6e2e16506ec>\u001b[0m in \u001b[0;36m<module>\u001b[0;34m\u001b[0m\n\u001b[1;32m      4\u001b[0m rho_of_r_eps = integrand_array_func_V2(_PSI_array=PSI_bin_centers,\n\u001b[1;32m      5\u001b[0m                                         \u001b[0m_f_eps_array\u001b[0m\u001b[0;34m=\u001b[0m\u001b[0mf_e_array\u001b[0m\u001b[0;34m,\u001b[0m\u001b[0;34m\u001b[0m\u001b[0;34m\u001b[0m\u001b[0m\n\u001b[0;32m----> 6\u001b[0;31m                                         _f_eps_bin_edges_array=f_e_bin_edges)\n\u001b[0m\u001b[1;32m      7\u001b[0m \u001b[0;34m\u001b[0m\u001b[0m\n\u001b[1;32m      8\u001b[0m \u001b[0;34m\u001b[0m\u001b[0m\n",
      "\u001b[0;32m<ipython-input-683-2e18c7dfe113>\u001b[0m in \u001b[0;36mintegrand_array_func_V2\u001b[0;34m(_PSI_array, _f_eps_array, _f_eps_bin_edges_array)\u001b[0m\n\u001b[1;32m     30\u001b[0m             \u001b[0m_calc\u001b[0m \u001b[0;34m=\u001b[0m \u001b[0mf_eps_widths\u001b[0m\u001b[0;34m*\u001b[0m\u001b[0m_sqrt_term\u001b[0m \u001b[0;34m*\u001b[0m \u001b[0m_eps_bin_centers\u001b[0m\u001b[0;34m\u001b[0m\u001b[0;34m\u001b[0m\u001b[0m\n\u001b[1;32m     31\u001b[0m             \u001b[0;32mif\u001b[0m \u001b[0m_calc\u001b[0m \u001b[0;34m<\u001b[0m \u001b[0;36m0\u001b[0m \u001b[0;32mor\u001b[0m \u001b[0m_calc\u001b[0m \u001b[0;34m==\u001b[0m \u001b[0mnp\u001b[0m\u001b[0;34m.\u001b[0m\u001b[0mnan\u001b[0m\u001b[0;34m:\u001b[0m\u001b[0;34m\u001b[0m\u001b[0;34m\u001b[0m\u001b[0m\n\u001b[0;32m---> 32\u001b[0;31m                 \u001b[0;32mraise\u001b[0m \u001b[0mValueError\u001b[0m\u001b[0;34m(\u001b[0m\u001b[0;34m\"your int array is fucked up\"\u001b[0m\u001b[0;34m)\u001b[0m\u001b[0;34m\u001b[0m\u001b[0;34m\u001b[0m\u001b[0m\n\u001b[0m\u001b[1;32m     33\u001b[0m \u001b[0;34m\u001b[0m\u001b[0m\n\u001b[1;32m     34\u001b[0m             \u001b[0m_int_bin\u001b[0m\u001b[0;34m[\u001b[0m\u001b[0mii\u001b[0m\u001b[0;34m,\u001b[0m\u001b[0mjj\u001b[0m\u001b[0;34m]\u001b[0m \u001b[0;34m=\u001b[0m \u001b[0m_calc\u001b[0m\u001b[0;34m\u001b[0m\u001b[0;34m\u001b[0m\u001b[0m\n",
      "\u001b[0;31mValueError\u001b[0m: your int array is fucked up"
     ]
    }
   ],
   "source": [
    "_r_bin_centers = ((inputs_R[:-1] + inputs_R[1:]) / 2.0)\n",
    "\n",
    "\n",
    "rho_of_r_eps = integrand_array_func_V2(_PSI_array=PSI_bin_centers,\n",
    "                                        _f_eps_array=f_e_array,\n",
    "                                        _f_eps_bin_edges_array=f_e_bin_edges)\n",
    "\n",
    "\n",
    "rho_r_bin_edges,rho_r_array = integrate_integrand_array(_bin_centers=PSI_bin_centers,\n",
    "                                                        _integrand_array=rho_of_r_eps,\n",
    "                                                        _epsilon_array=f_e_bin_edges)\n",
    "\n",
    "\n",
    "# DM Halo density distribution\n",
    "DM_rho_dist_NFW_recover = rho_dehnen(_r=inputs_R,_p0=_p0_DM,_a=_a_DM,_alpha=1,_beta=3)\n"
   ]
  },
  {
   "cell_type": "code",
   "execution_count": 685,
   "metadata": {
    "ExecuteTime": {
     "end_time": "2020-05-08T20:32:13.572106Z",
     "start_time": "2020-05-08T20:32:12.817039Z"
    }
   },
   "outputs": [
    {
     "data": {
      "image/png": "[encoded data removed]",
      "text/latex": [
       "$$\\left ( \\left ( 99\\right ), \\quad \\left ( 499, \\quad 118\\right ), \\quad \\left ( 99\\right )\\right )$$"
      ],
      "text/plain": [
       "((99,), (499, 118), (99,))"
      ]
     },
     "execution_count": 685,
     "metadata": {},
     "output_type": "execute_result"
    }
   ],
   "source": [
    "PSI_bin_centers.shape,rho_of_r_eps.shape,f_e_bin_edges.shape,"
   ]
  },
  {
   "cell_type": "code",
   "execution_count": null,
   "metadata": {},
   "outputs": [],
   "source": []
  },
  {
   "cell_type": "code",
   "execution_count": 686,
   "metadata": {
    "ExecuteTime": {
     "end_time": "2020-05-08T20:32:14.484563Z",
     "start_time": "2020-05-08T20:32:14.028938Z"
    },
    "scrolled": false
   },
   "outputs": [
    {
     "data": {
      "image/png": "[encoded data removed]",
      "text/latex": [
       "$$\\left ( 96, \\quad 96\\right )$$"
      ],
      "text/plain": [
       "(96, 96)"
      ]
     },
     "execution_count": 686,
     "metadata": {},
     "output_type": "execute_result"
    }
   ],
   "source": [
    "shift = rho_r_array.size-np.count_nonzero(rho_r_array)\n",
    "rho_r_array[shift:rho_r_bin_edges.size].size,rho_r_bin_edges[shift:].size"
   ]
  },
  {
   "cell_type": "code",
   "execution_count": 687,
   "metadata": {
    "ExecuteTime": {
     "end_time": "2020-05-08T20:32:14.903017Z",
     "start_time": "2020-05-08T20:32:14.876933Z"
    }
   },
   "outputs": [],
   "source": [
    "# plt.plot(rho_r_bin_edges[:np.count_nonzero(rho_r_array)],rho_r_array[:np.count_nonzero(rho_r_array)])\n",
    "recovery_r_edges,recovery_r_vals = rho_r_bin_edges[shift:],rho_r_array[shift:rho_r_bin_edges.size]\n",
    "recovery_r_edges,recovery_r_vals = recovery_r_edges[::-1],recovery_r_vals\n",
    "\n",
    "\n",
    "\n",
    "_vcirc_of_r_x_vals_DM, vcirc_of_r_numerical_DM = take_deriv(_x= np.diff(inputs_R),\n",
    "                                                              _y=PSI_bin_centers)\n",
    "\n",
    "vcirc_of_r_numerical_DM = np.sqrt(_vcirc_of_r_x_vals_DM * np.abs(vcirc_of_r_numerical_DM))\n",
    "\n",
    "\n",
    "_phi_of_r_x_vals_DM, phi_of_r_numerical_DM = phi_solver_of_rho(_r=recovery_r_edges, _analytic_rho=recovery_r_vals,\n",
    "                                                                 _analytic_phi=PSI_bin_centers[shift:rho_r_bin_edges.size],\n",
    "                                                                 _int_function=trap_function, _Grav_const=G_solar_mass,\n",
    "                                                               _normalize=True)\n",
    "\n",
    "\n",
    "# DM\n",
    "_vcirc_of_r_x_vals_DM_num, vcirc_of_r_numerical_DM_num = take_deriv(_x= _phi_of_r_x_vals_DM[::-1],\n",
    "                                                              _y=phi_of_r_numerical_DM)\n",
    "\n",
    "vcirc_of_r_numerical_DM_num = np.sqrt(_vcirc_of_r_x_vals_DM_num * np.abs(vcirc_of_r_numerical_DM_num))\n",
    "\n",
    "\n"
   ]
  },
  {
   "cell_type": "code",
   "execution_count": 688,
   "metadata": {
    "ExecuteTime": {
     "end_time": "2020-05-08T20:32:15.190595Z",
     "start_time": "2020-05-08T20:32:14.909522Z"
    },
    "scrolled": false
   },
   "outputs": [
    {
     "ename": "ValueError",
     "evalue": "x and y must have same first dimension, but have shapes (100,) and (500,)",
     "output_type": "error",
     "traceback": [
      "\u001b[0;31m---------------------------------------------------------------------------\u001b[0m",
      "\u001b[0;31mValueError\u001b[0m                                Traceback (most recent call last)",
      "\u001b[0;32m<ipython-input-688-1ff949475923>\u001b[0m in \u001b[0;36m<module>\u001b[0;34m\u001b[0m\n\u001b[1;32m      9\u001b[0m \u001b[0;31m# ploting\u001b[0m\u001b[0;34m\u001b[0m\u001b[0;34m\u001b[0m\u001b[0;34m\u001b[0m\u001b[0m\n\u001b[1;32m     10\u001b[0m \u001b[0;34m\u001b[0m\u001b[0m\n\u001b[0;32m---> 11\u001b[0;31m \u001b[0mplt\u001b[0m\u001b[0;34m.\u001b[0m\u001b[0mplot\u001b[0m\u001b[0;34m(\u001b[0m\u001b[0minputs_R\u001b[0m\u001b[0;34m*\u001b[0m\u001b[0mcm_to_pc\u001b[0m\u001b[0;34m,\u001b[0m \u001b[0mDM_rho_dist_NFW_recover\u001b[0m\u001b[0;34m*\u001b[0m\u001b[0mcgs_rho_to_solar_pc_rho\u001b[0m\u001b[0;34m,\u001b[0m\u001b[0;34m'Navy'\u001b[0m\u001b[0;34m,\u001b[0m\u001b[0mlabel\u001b[0m\u001b[0;34m=\u001b[0m\u001b[0;34mr'$\\mathrm{DM\\ A}$'\u001b[0m\u001b[0;34m)\u001b[0m\u001b[0;34m\u001b[0m\u001b[0;34m\u001b[0m\u001b[0m\n\u001b[0m\u001b[1;32m     12\u001b[0m plt.plot(recovery_r_edges,recovery_r_vals,'tab:red',marker=\"+\",markersize=15,\n\u001b[1;32m     13\u001b[0m          label=r'$\\mathrm{DM\\ 5.149}$')\n",
      "\u001b[0;32m~/anaconda3/lib/python3.7/site-packages/matplotlib/pyplot.py\u001b[0m in \u001b[0;36mplot\u001b[0;34m(scalex, scaley, data, *args, **kwargs)\u001b[0m\n\u001b[1;32m   2811\u001b[0m     return gca().plot(\n\u001b[1;32m   2812\u001b[0m         *args, scalex=scalex, scaley=scaley, **({\"data\": data} if data\n\u001b[0;32m-> 2813\u001b[0;31m         is not None else {}), **kwargs)\n\u001b[0m\u001b[1;32m   2814\u001b[0m \u001b[0;34m\u001b[0m\u001b[0m\n\u001b[1;32m   2815\u001b[0m \u001b[0;34m\u001b[0m\u001b[0m\n",
      "\u001b[0;32m~/anaconda3/lib/python3.7/site-packages/matplotlib/__init__.py\u001b[0m in \u001b[0;36minner\u001b[0;34m(ax, data, *args, **kwargs)\u001b[0m\n\u001b[1;32m   1808\u001b[0m                         \u001b[0;34m\"the Matplotlib list!)\"\u001b[0m \u001b[0;34m%\u001b[0m \u001b[0;34m(\u001b[0m\u001b[0mlabel_namer\u001b[0m\u001b[0;34m,\u001b[0m \u001b[0mfunc\u001b[0m\u001b[0;34m.\u001b[0m\u001b[0m__name__\u001b[0m\u001b[0;34m)\u001b[0m\u001b[0;34m,\u001b[0m\u001b[0;34m\u001b[0m\u001b[0;34m\u001b[0m\u001b[0m\n\u001b[1;32m   1809\u001b[0m                         RuntimeWarning, stacklevel=2)\n\u001b[0;32m-> 1810\u001b[0;31m             \u001b[0;32mreturn\u001b[0m \u001b[0mfunc\u001b[0m\u001b[0;34m(\u001b[0m\u001b[0max\u001b[0m\u001b[0;34m,\u001b[0m \u001b[0;34m*\u001b[0m\u001b[0margs\u001b[0m\u001b[0;34m,\u001b[0m \u001b[0;34m**\u001b[0m\u001b[0mkwargs\u001b[0m\u001b[0;34m)\u001b[0m\u001b[0;34m\u001b[0m\u001b[0;34m\u001b[0m\u001b[0m\n\u001b[0m\u001b[1;32m   1811\u001b[0m \u001b[0;34m\u001b[0m\u001b[0m\n\u001b[1;32m   1812\u001b[0m         inner.__doc__ = _add_data_doc(inner.__doc__,\n",
      "\u001b[0;32m~/anaconda3/lib/python3.7/site-packages/matplotlib/axes/_axes.py\u001b[0m in \u001b[0;36mplot\u001b[0;34m(self, scalex, scaley, *args, **kwargs)\u001b[0m\n\u001b[1;32m   1609\u001b[0m         \u001b[0mkwargs\u001b[0m \u001b[0;34m=\u001b[0m \u001b[0mcbook\u001b[0m\u001b[0;34m.\u001b[0m\u001b[0mnormalize_kwargs\u001b[0m\u001b[0;34m(\u001b[0m\u001b[0mkwargs\u001b[0m\u001b[0;34m,\u001b[0m \u001b[0mmlines\u001b[0m\u001b[0;34m.\u001b[0m\u001b[0mLine2D\u001b[0m\u001b[0;34m.\u001b[0m\u001b[0m_alias_map\u001b[0m\u001b[0;34m)\u001b[0m\u001b[0;34m\u001b[0m\u001b[0;34m\u001b[0m\u001b[0m\n\u001b[1;32m   1610\u001b[0m \u001b[0;34m\u001b[0m\u001b[0m\n\u001b[0;32m-> 1611\u001b[0;31m         \u001b[0;32mfor\u001b[0m \u001b[0mline\u001b[0m \u001b[0;32min\u001b[0m \u001b[0mself\u001b[0m\u001b[0;34m.\u001b[0m\u001b[0m_get_lines\u001b[0m\u001b[0;34m(\u001b[0m\u001b[0;34m*\u001b[0m\u001b[0margs\u001b[0m\u001b[0;34m,\u001b[0m \u001b[0;34m**\u001b[0m\u001b[0mkwargs\u001b[0m\u001b[0;34m)\u001b[0m\u001b[0;34m:\u001b[0m\u001b[0;34m\u001b[0m\u001b[0;34m\u001b[0m\u001b[0m\n\u001b[0m\u001b[1;32m   1612\u001b[0m             \u001b[0mself\u001b[0m\u001b[0;34m.\u001b[0m\u001b[0madd_line\u001b[0m\u001b[0;34m(\u001b[0m\u001b[0mline\u001b[0m\u001b[0;34m)\u001b[0m\u001b[0;34m\u001b[0m\u001b[0;34m\u001b[0m\u001b[0m\n\u001b[1;32m   1613\u001b[0m             \u001b[0mlines\u001b[0m\u001b[0;34m.\u001b[0m\u001b[0mappend\u001b[0m\u001b[0;34m(\u001b[0m\u001b[0mline\u001b[0m\u001b[0;34m)\u001b[0m\u001b[0;34m\u001b[0m\u001b[0;34m\u001b[0m\u001b[0m\n",
      "\u001b[0;32m~/anaconda3/lib/python3.7/site-packages/matplotlib/axes/_base.py\u001b[0m in \u001b[0;36m_grab_next_args\u001b[0;34m(self, *args, **kwargs)\u001b[0m\n\u001b[1;32m    391\u001b[0m                 \u001b[0mthis\u001b[0m \u001b[0;34m+=\u001b[0m \u001b[0margs\u001b[0m\u001b[0;34m[\u001b[0m\u001b[0;36m0\u001b[0m\u001b[0;34m]\u001b[0m\u001b[0;34m,\u001b[0m\u001b[0;34m\u001b[0m\u001b[0;34m\u001b[0m\u001b[0m\n\u001b[1;32m    392\u001b[0m                 \u001b[0margs\u001b[0m \u001b[0;34m=\u001b[0m \u001b[0margs\u001b[0m\u001b[0;34m[\u001b[0m\u001b[0;36m1\u001b[0m\u001b[0;34m:\u001b[0m\u001b[0;34m]\u001b[0m\u001b[0;34m\u001b[0m\u001b[0;34m\u001b[0m\u001b[0m\n\u001b[0;32m--> 393\u001b[0;31m             \u001b[0;32myield\u001b[0m \u001b[0;32mfrom\u001b[0m \u001b[0mself\u001b[0m\u001b[0;34m.\u001b[0m\u001b[0m_plot_args\u001b[0m\u001b[0;34m(\u001b[0m\u001b[0mthis\u001b[0m\u001b[0;34m,\u001b[0m \u001b[0mkwargs\u001b[0m\u001b[0;34m)\u001b[0m\u001b[0;34m\u001b[0m\u001b[0;34m\u001b[0m\u001b[0m\n\u001b[0m\u001b[1;32m    394\u001b[0m \u001b[0;34m\u001b[0m\u001b[0m\n\u001b[1;32m    395\u001b[0m \u001b[0;34m\u001b[0m\u001b[0m\n",
      "\u001b[0;32m~/anaconda3/lib/python3.7/site-packages/matplotlib/axes/_base.py\u001b[0m in \u001b[0;36m_plot_args\u001b[0;34m(self, tup, kwargs)\u001b[0m\n\u001b[1;32m    368\u001b[0m             \u001b[0mx\u001b[0m\u001b[0;34m,\u001b[0m \u001b[0my\u001b[0m \u001b[0;34m=\u001b[0m \u001b[0mindex_of\u001b[0m\u001b[0;34m(\u001b[0m\u001b[0mtup\u001b[0m\u001b[0;34m[\u001b[0m\u001b[0;34m-\u001b[0m\u001b[0;36m1\u001b[0m\u001b[0;34m]\u001b[0m\u001b[0;34m)\u001b[0m\u001b[0;34m\u001b[0m\u001b[0;34m\u001b[0m\u001b[0m\n\u001b[1;32m    369\u001b[0m \u001b[0;34m\u001b[0m\u001b[0m\n\u001b[0;32m--> 370\u001b[0;31m         \u001b[0mx\u001b[0m\u001b[0;34m,\u001b[0m \u001b[0my\u001b[0m \u001b[0;34m=\u001b[0m \u001b[0mself\u001b[0m\u001b[0;34m.\u001b[0m\u001b[0m_xy_from_xy\u001b[0m\u001b[0;34m(\u001b[0m\u001b[0mx\u001b[0m\u001b[0;34m,\u001b[0m \u001b[0my\u001b[0m\u001b[0;34m)\u001b[0m\u001b[0;34m\u001b[0m\u001b[0;34m\u001b[0m\u001b[0m\n\u001b[0m\u001b[1;32m    371\u001b[0m \u001b[0;34m\u001b[0m\u001b[0m\n\u001b[1;32m    372\u001b[0m         \u001b[0;32mif\u001b[0m \u001b[0mself\u001b[0m\u001b[0;34m.\u001b[0m\u001b[0mcommand\u001b[0m \u001b[0;34m==\u001b[0m \u001b[0;34m'plot'\u001b[0m\u001b[0;34m:\u001b[0m\u001b[0;34m\u001b[0m\u001b[0;34m\u001b[0m\u001b[0m\n",
      "\u001b[0;32m~/anaconda3/lib/python3.7/site-packages/matplotlib/axes/_base.py\u001b[0m in \u001b[0;36m_xy_from_xy\u001b[0;34m(self, x, y)\u001b[0m\n\u001b[1;32m    229\u001b[0m         \u001b[0;32mif\u001b[0m \u001b[0mx\u001b[0m\u001b[0;34m.\u001b[0m\u001b[0mshape\u001b[0m\u001b[0;34m[\u001b[0m\u001b[0;36m0\u001b[0m\u001b[0;34m]\u001b[0m \u001b[0;34m!=\u001b[0m \u001b[0my\u001b[0m\u001b[0;34m.\u001b[0m\u001b[0mshape\u001b[0m\u001b[0;34m[\u001b[0m\u001b[0;36m0\u001b[0m\u001b[0;34m]\u001b[0m\u001b[0;34m:\u001b[0m\u001b[0;34m\u001b[0m\u001b[0;34m\u001b[0m\u001b[0m\n\u001b[1;32m    230\u001b[0m             raise ValueError(\"x and y must have same first dimension, but \"\n\u001b[0;32m--> 231\u001b[0;31m                              \"have shapes {} and {}\".format(x.shape, y.shape))\n\u001b[0m\u001b[1;32m    232\u001b[0m         \u001b[0;32mif\u001b[0m \u001b[0mx\u001b[0m\u001b[0;34m.\u001b[0m\u001b[0mndim\u001b[0m \u001b[0;34m>\u001b[0m \u001b[0;36m2\u001b[0m \u001b[0;32mor\u001b[0m \u001b[0my\u001b[0m\u001b[0;34m.\u001b[0m\u001b[0mndim\u001b[0m \u001b[0;34m>\u001b[0m \u001b[0;36m2\u001b[0m\u001b[0;34m:\u001b[0m\u001b[0;34m\u001b[0m\u001b[0;34m\u001b[0m\u001b[0m\n\u001b[1;32m    233\u001b[0m             raise ValueError(\"x and y can be no greater than 2-D, but have \"\n",
      "\u001b[0;31mValueError\u001b[0m: x and y must have same first dimension, but have shapes (100,) and (500,)"
     ]
    },
    {
     "data": {
      "image/png": "[encoded data removed]",
      "text/plain": [
       "<Figure size 1296x432 with 1 Axes>"
      ]
     },
     "metadata": {
      "needs_background": "light"
     },
     "output_type": "display_data"
    }
   ],
   "source": [
    "fig = plt.figure(3)\n",
    "fig.set_figheight(6)\n",
    "fig.set_figwidth(18)\n",
    "\n",
    "# create axis object\n",
    "ax = plt.subplot(131)\n",
    "plt.grid(True)\n",
    "\n",
    "# ploting\n",
    "\n",
    "plt.plot(inputs_R*cm_to_pc, DM_rho_dist_NFW_recover*cgs_rho_to_solar_pc_rho,'Navy',label=r'$\\mathrm{DM\\ A}$')\n",
    "plt.plot(recovery_r_edges,recovery_r_vals,'tab:red',marker=\"+\",markersize=15,\n",
    "         label=r'$\\mathrm{DM\\ 5.149}$')\n",
    "\n",
    "\n",
    "# labeling\n",
    "plt.title(r'$\\mathrm{\\rho(r)\\ vs.\\ r}$', size=30)\n",
    "plt.xlabel(r'$\\mathrm{Log\\ r\\ [pc]}$', size=30)\n",
    "plt.ylabel(r'$\\mathrm{ Log\\ \\rho(r)\\ [M_{\\odot}\\ pc^{-3}] }$', size=30)\n",
    "ax.tick_params(axis='x', which='major', labelsize=25)\n",
    "ax.tick_params(axis='y', which='major', labelsize=25)\n",
    "plt.semilogy()\n",
    "plt.semilogx()\n",
    "plt.legend(fontsize=20)\n",
    "plt.tight_layout()\n",
    "\n",
    "\n",
    "\n",
    "ax = plt.subplot(132)\n",
    "plt.grid(True)\n",
    "\n",
    "plt.plot(_r_bin_centers[::-1]*cm_to_pc,PSI_bin_centers,'tab:red',label=r'$\\mathrm{bin\\ centers}$')\n",
    "# plt.plot(_r_bin_centers[shift:rho_r_bin_edges.size]*cm_to_pc,PSI_bin_centers[shift:rho_r_bin_edges.size],'tab:blue')\n",
    "plt.plot(_phi_of_r_x_vals_DM[::-1], -phi_of_r_numerical_DM,'tab:green',marker='+',label=r'$\\mathrm{from rho_r}$')\n",
    "ax = plt.gca()\n",
    "ax.invert_xaxis()\n",
    "\n",
    "# plt.axvline(f_e_bin_edges[61])\n",
    "# labeling\n",
    "plt.title(r'$\\mathrm{DM\\ Bin\\ centers\\ Only\\ solar\\ G\\ units}$', size=30)\n",
    "plt.xlabel(r'$\\mathrm{r\\ [pc]}$', size=30)\n",
    "plt.ylabel(r'$\\mathrm{\\Psi(r)}$', size=30)\n",
    "ax.tick_params(axis='x', which='major', labelsize=25)\n",
    "ax.tick_params(axis='y', which='major', labelsize=25)\n",
    "# plt.xlim(-1e22,1e23)\n",
    "plt.semilogy()\n",
    "plt.semilogx()\n",
    "# plt.legend(fontsize=20)\n",
    "plt.tight_layout()\n",
    "\n",
    "\n",
    "\n",
    "\n",
    "ax = plt.subplot(133)\n",
    "\n",
    "plt.grid(True)\n",
    "\n",
    "# ploting\n",
    "\n",
    "plt.plot(_vcirc_of_r_x_vals_DM_A*cm_to_pc, vcirc_of_r_analytic_DM, color='cyan',label=r'$\\mathrm{DM\\ A\\ Phi}$')\n",
    "plt.plot(_vcirc_of_r_x_vals_DM_num, vcirc_of_r_numerical_DM_num, color='tab:blue',label=r'$\\mathrm{DM\\ N\\ Phi}$')\n",
    "plt.title(r'$\\mathrm{V_{circ}\\ vs.\\ r}$', size=30)\n",
    "plt.xlabel(r'$\\mathrm{Log\\ r\\ [pc]}$', size=30)\n",
    "plt.ylabel(r'$\\mathrm{V_{circ}\\ [pc/Myr]}$', size=30)\n",
    "ax.tick_params(axis='x', which='major', labelsize=25)\n",
    "ax.tick_params(axis='y', which='major', labelsize=25)\n",
    "\n",
    "plt.semilogx()\n",
    "plt.semilogy()\n",
    "plt.legend(fontsize=20)\n",
    "\n",
    "plt.tight_layout()"
   ]
  },
  {
   "cell_type": "code",
   "execution_count": null,
   "metadata": {},
   "outputs": [],
   "source": []
  },
  {
   "cell_type": "code",
   "execution_count": null,
   "metadata": {},
   "outputs": [],
   "source": []
  }
 ],
 "metadata": {
  "kernelspec": {
   "display_name": "Python 3",
   "language": "python",
   "name": "python3"
  },
  "language_info": {
   "codemirror_mode": {
    "name": "ipython",
    "version": 3
   },
   "file_extension": ".py",
   "mimetype": "text/x-python",
   "name": "python",
   "nbconvert_exporter": "python",
   "pygments_lexer": "ipython3",
   "version": "3.7.1"
  },
  "toc": {
   "base_numbering": 1,
   "nav_menu": {},
   "number_sections": true,
   "sideBar": true,
   "skip_h1_title": false,
   "title_cell": "Table of Contents",
   "title_sidebar": "Contents",
   "toc_cell": false,
   "toc_position": {
    "height": "calc(100% - 180px)",
    "left": "10px",
    "top": "150px",
    "width": "320px"
   },
   "toc_section_display": true,
   "toc_window_display": false
  },
  "varInspector": {
   "cols": {
    "lenName": 16,
    "lenType": 16,
    "lenVar": 40
   },
   "kernels_config": {
    "python": {
     "delete_cmd_postfix": "",
     "delete_cmd_prefix": "del ",
     "library": "var_list.py",
     "varRefreshCmd": "print(var_dic_list())"
    },
    "r": {
     "delete_cmd_postfix": ") ",
     "delete_cmd_prefix": "rm(",
     "library": "var_list.r",
     "varRefreshCmd": "cat(var_dic_list()) "
    }
   },
   "types_to_exclude": [
    "module",
    "function",
    "builtin_function_or_method",
    "instance",
    "_Feature"
   ],
   "window_display": false
  }
 },
 "nbformat": 4,
 "nbformat_minor": 2
}
